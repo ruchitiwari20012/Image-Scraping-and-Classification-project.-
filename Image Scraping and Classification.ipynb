{
 "cells": [
  {
   "cell_type": "code",
   "execution_count": 63,
   "metadata": {},
   "outputs": [],
   "source": [
    "import os"
   ]
  },
  {
   "cell_type": "code",
   "execution_count": 64,
   "metadata": {},
   "outputs": [
    {
     "name": "stdout",
     "output_type": "stream",
     "text": [
      "Requirement already satisfied: webdriver-manager in c:\\users\\ruchi\\anaconda3\\lib\\site-packages (3.2.2)\n",
      "Requirement already satisfied: crayons in c:\\users\\ruchi\\anaconda3\\lib\\site-packages (from webdriver-manager) (0.4.0)\n",
      "Requirement already satisfied: configparser in c:\\users\\ruchi\\anaconda3\\lib\\site-packages (from webdriver-manager) (5.0.1)\n",
      "Requirement already satisfied: requests in c:\\users\\ruchi\\anaconda3\\lib\\site-packages (from webdriver-manager) (2.21.0)\n",
      "Requirement already satisfied: colorama in c:\\users\\ruchi\\anaconda3\\lib\\site-packages (from crayons->webdriver-manager) (0.4.3)\n",
      "Requirement already satisfied: chardet<3.1.0,>=3.0.2 in c:\\users\\ruchi\\anaconda3\\lib\\site-packages (from requests->webdriver-manager) (3.0.4)\n",
      "Requirement already satisfied: urllib3<1.25,>=1.21.1 in c:\\users\\ruchi\\anaconda3\\lib\\site-packages (from requests->webdriver-manager) (1.24.1)\n",
      "Requirement already satisfied: certifi>=2017.4.17 in c:\\users\\ruchi\\anaconda3\\lib\\site-packages (from requests->webdriver-manager) (2018.11.29)\n",
      "Requirement already satisfied: idna<2.9,>=2.5 in c:\\users\\ruchi\\anaconda3\\lib\\site-packages (from requests->webdriver-manager) (2.8)\n",
      "Note: you may need to restart the kernel to use updated packages.\n"
     ]
    }
   ],
   "source": [
    "pip install webdriver-manager"
   ]
  },
  {
   "cell_type": "code",
   "execution_count": 65,
   "metadata": {},
   "outputs": [
    {
     "name": "stdout",
     "output_type": "stream",
     "text": [
      " \n"
     ]
    },
    {
     "name": "stderr",
     "output_type": "stream",
     "text": [
      "[WDM] - Current google-chrome version is 87.0.4280\n",
      "[WDM] - Get LATEST driver version for 87.0.4280\n",
      "[WDM] - Driver [C:\\Users\\Ruchi\\.wdm\\drivers\\chromedriver\\win32\\87.0.4280.88\\chromedriver.exe] found in cache\n"
     ]
    }
   ],
   "source": [
    "from selenium import webdriver\n",
    "from webdriver_manager.chrome import ChromeDriverManager\n",
    "from bs4 import BeautifulSoup\n",
    "import pandas as pd\n",
    "\n",
    "driver = webdriver.Chrome(ChromeDriverManager().install())"
   ]
  },
  {
   "cell_type": "code",
   "execution_count": 80,
   "metadata": {},
   "outputs": [],
   "source": [
    "my_page= driver.get('https://www.amazon.in/s?k=sarees&qid=1609241844&ref=sr_pg_1')"
   ]
  },
  {
   "cell_type": "markdown",
   "metadata": {},
   "source": [
    "# Making Directory to store images"
   ]
  },
  {
   "cell_type": "code",
   "execution_count": 81,
   "metadata": {},
   "outputs": [],
   "source": [
    "def make_directory(dirname):\n",
    "    current_path=os.getcwd()\n",
    "    path=os.path.join(current_path,dirname)\n",
    "    if not os.path.exists(path):\n",
    "        os.makedirs(path)\n",
    "        "
   ]
  },
  {
   "cell_type": "code",
   "execution_count": 82,
   "metadata": {},
   "outputs": [],
   "source": [
    "make_directory('Sarees')"
   ]
  },
  {
   "cell_type": "markdown",
   "metadata": {},
   "source": [
    "# Scraping URLs of images "
   ]
  },
  {
   "cell_type": "code",
   "execution_count": 83,
   "metadata": {},
   "outputs": [],
   "source": [
    "\n",
    "images = driver.find_elements_by_xpath('//img[@class=\"s-image\"]')\n"
   ]
  },
  {
   "cell_type": "code",
   "execution_count": 84,
   "metadata": {},
   "outputs": [
    {
     "name": "stdout",
     "output_type": "stream",
     "text": [
      "76\n"
     ]
    }
   ],
   "source": [
    "print(len(images))"
   ]
  },
  {
   "cell_type": "code",
   "execution_count": 85,
   "metadata": {},
   "outputs": [
    {
     "data": {
      "text/plain": [
       "<selenium.webdriver.remote.webelement.WebElement (session=\"d7d697d3aaa958e8971b9a529eb17187\", element=\"96f8174d-3497-4299-b248-8b03beb0f9ff\")>"
      ]
     },
     "execution_count": 85,
     "metadata": {},
     "output_type": "execute_result"
    }
   ],
   "source": [
    "images[0]"
   ]
  },
  {
   "cell_type": "code",
   "execution_count": 86,
   "metadata": {},
   "outputs": [
    {
     "name": "stdout",
     "output_type": "stream",
     "text": [
      "https://m.media-amazon.com/images/I/81kSVJYRfDL._AC_UL320_.jpg\n",
      "https://m.media-amazon.com/images/I/91XvbOOQfwL._AC_UL320_.jpg\n",
      "https://m.media-amazon.com/images/I/81IayWLzPYL._AC_UL320_.jpg\n",
      "https://m.media-amazon.com/images/I/91ja3lgrNqL._AC_UL320_.jpg\n",
      "https://m.media-amazon.com/images/I/91RdB6OaqHL._AC_UL320_.jpg\n",
      "https://m.media-amazon.com/images/I/91yPghSgR8L._AC_UL320_.jpg\n",
      "https://m.media-amazon.com/images/I/61EvPLNdVBL._AC_UL320_.jpg\n",
      "https://m.media-amazon.com/images/I/91WCQ88UV5L._AC_UL320_.jpg\n",
      "https://m.media-amazon.com/images/I/710UYeqiESL._AC_UL320_.jpg\n",
      "https://m.media-amazon.com/images/I/61dbP1wFneL._AC_UL320_.jpg\n",
      "https://m.media-amazon.com/images/I/91Nfpvp1yhL._AC_UL320_.jpg\n",
      "https://m.media-amazon.com/images/I/61kLs-ouGfL._AC_UL320_.jpg\n",
      "https://m.media-amazon.com/images/I/91i2qlD-Z-L._AC_UL320_.jpg\n",
      "https://m.media-amazon.com/images/I/81sWxv3qhdL._AC_UL320_.jpg\n",
      "https://m.media-amazon.com/images/I/916ipavYg5L._AC_UL320_.jpg\n",
      "https://m.media-amazon.com/images/I/913VtoIq8DL._AC_UL320_.jpg\n",
      "https://m.media-amazon.com/images/I/6145npqbg4L._AC_UL320_.jpg\n",
      "https://m.media-amazon.com/images/I/9114kTDpPUL._AC_UL320_.jpg\n",
      "https://m.media-amazon.com/images/I/81O-J6qiXvL._AC_UL320_.jpg\n",
      "https://m.media-amazon.com/images/I/61lIqW3EzmL._AC_UL320_.jpg\n",
      "https://m.media-amazon.com/images/I/813Bh1BPWIL._AC_UL320_.jpg\n",
      "https://m.media-amazon.com/images/I/81XtDODAvJL._AC_UL320_.jpg\n",
      "https://m.media-amazon.com/images/I/915MNGeeIFL._AC_UL320_.jpg\n",
      "https://m.media-amazon.com/images/I/914W3gXsKlL._AC_UL320_.jpg\n",
      "https://m.media-amazon.com/images/I/91poiw5OEPL._AC_UL320_.jpg\n",
      "https://m.media-amazon.com/images/I/81+sAZqUMnL._AC_UL320_.jpg\n",
      "https://m.media-amazon.com/images/I/91cmY-VE0XL._AC_UL320_.jpg\n",
      "https://m.media-amazon.com/images/I/61X0OBXZRBL._AC_UL320_.jpg\n",
      "https://m.media-amazon.com/images/I/81djib74cOL._AC_UL320_.jpg\n",
      "https://m.media-amazon.com/images/I/81HlwcMxRvL._AC_UL320_.jpg\n",
      "https://m.media-amazon.com/images/I/91aegud0TlL._AC_UL320_.jpg\n",
      "https://m.media-amazon.com/images/I/71u0wIxk9FL._AC_UL320_.jpg\n",
      "https://m.media-amazon.com/images/I/715NYXDhD-L._AC_UL320_.jpg\n",
      "https://m.media-amazon.com/images/I/814508trQRL._AC_UL320_.jpg\n",
      "https://m.media-amazon.com/images/I/51-7oFhD3EL._AC_UL320_.jpg\n",
      "https://m.media-amazon.com/images/I/81BO9PICWgL._AC_UL320_.jpg\n",
      "https://m.media-amazon.com/images/I/713f+6CnyNL._AC_UL320_.jpg\n",
      "https://m.media-amazon.com/images/I/91mGgpjH9OL._AC_UL320_.jpg\n",
      "https://m.media-amazon.com/images/I/61qtfVnNY6L._AC_UL320_.jpg\n",
      "https://m.media-amazon.com/images/I/61DT366eQ6L._AC_UL320_.jpg\n",
      "https://m.media-amazon.com/images/I/91RLBThNNhL._AC_UL320_.jpg\n",
      "https://m.media-amazon.com/images/I/71fFmZulTWL._AC_UL320_.jpg\n",
      "https://m.media-amazon.com/images/I/61Z45rryn+L._AC_UL320_.jpg\n",
      "https://m.media-amazon.com/images/I/61ThuZ7z1qL._AC_UL320_.jpg\n",
      "https://m.media-amazon.com/images/I/81qVmX0SOML._AC_UL320_.jpg\n",
      "https://m.media-amazon.com/images/I/51hw22SU20L._AC_UL320_.jpg\n",
      "https://m.media-amazon.com/images/I/713GDgUynjL._AC_UL320_.jpg\n",
      "https://m.media-amazon.com/images/I/81Pks4Q52wL._AC_UL320_.jpg\n",
      "https://m.media-amazon.com/images/I/71RFJhkCyJL._AC_UL320_.jpg\n",
      "https://m.media-amazon.com/images/I/71MSMxeuPUL._AC_UL320_.jpg\n",
      "https://m.media-amazon.com/images/I/51r7L8ZWktL._AC_UL320_.jpg\n",
      "https://m.media-amazon.com/images/I/71t4-HNr3jL._AC_UL320_.jpg\n",
      "https://m.media-amazon.com/images/I/81NOdPRiTYL._AC_UL320_.jpg\n",
      "https://m.media-amazon.com/images/I/715S1cd8AfL._AC_UL320_.jpg\n",
      "https://m.media-amazon.com/images/I/5139t071bIL._AC_UL320_.jpg\n",
      "https://m.media-amazon.com/images/I/91S3GicS2FL._AC_UL320_.jpg\n",
      "https://m.media-amazon.com/images/I/816siql5M5L._AC_UL320_.jpg\n",
      "https://m.media-amazon.com/images/I/51FFD89147L._AC_UL320_.jpg\n",
      "https://m.media-amazon.com/images/I/81EFTquo53L._AC_UL320_.jpg\n",
      "https://m.media-amazon.com/images/I/916ROGKpL1L._AC_UL320_.jpg\n",
      "https://m.media-amazon.com/images/I/91KNJmAlDTL._AC_UL320_.jpg\n",
      "https://m.media-amazon.com/images/I/81KBTp9slnL._AC_UL320_.jpg\n",
      "https://m.media-amazon.com/images/I/61AJfE0W64L._AC_UL320_.jpg\n",
      "https://m.media-amazon.com/images/I/91J92wiWVML._AC_UL320_.jpg\n",
      "https://m.media-amazon.com/images/I/91JQVeIbQsL._AC_UL320_.jpg\n",
      "https://m.media-amazon.com/images/I/91JYyTKEnYL._AC_UL320_.jpg\n",
      "https://m.media-amazon.com/images/I/91yS1Ea+WOL._AC_UL320_.jpg\n",
      "https://m.media-amazon.com/images/I/81a2QKapOPL._AC_UL320_.jpg\n",
      "https://m.media-amazon.com/images/G/31/AMAZON_FASHION/2020/Shopping_Pages_Marketing_Content/All_fashion.jpg\n",
      "https://m.media-amazon.com/images/G/31/AMAZON_FASHION/2020/Shopping_Pages_Marketing_Content/Newly_launched.jpg\n",
      "https://m.media-amazon.com/images/G/31/AMAZON_FASHION/2020/Shopping_Pages_Marketing_Content/Trending_fashion.jpg\n",
      "https://m.media-amazon.com/images/G/31/AMAZON_FASHION/2020/Shopping_Pages_Marketing_Content/Featured_brands.jpg\n",
      "https://m.media-amazon.com/images/G/31/AMAZON_FASHION/2020/Shopping_Pages_Marketing_Content/Fashion_deals.jpg\n",
      "https://m.media-amazon.com/images/G/31/AMAZON_FASHION/2020/Shopping_Pages_Marketing_Content/Pocket-friendly_fashion.jpg\n",
      "https://m.media-amazon.com/images/G/31/AMAZON_FASHION/2020/Shopping_Pages_Marketing_Content/Clearance_store.jpg\n",
      "https://m.media-amazon.com/images/G/31/AMAZON_FASHION/2020/Shopping_Pages_Marketing_Content/Top-rated_fashion.jpg\n"
     ]
    }
   ],
   "source": [
    "urls=[]\n",
    "for image in images:\n",
    "    source=image.get_attribute('src')\n",
    "    urls.append(source)\n",
    "    print(source)"
   ]
  },
  {
   "cell_type": "code",
   "execution_count": 87,
   "metadata": {},
   "outputs": [
    {
     "data": {
      "text/plain": [
       "76"
      ]
     },
     "execution_count": 87,
     "metadata": {},
     "output_type": "execute_result"
    }
   ],
   "source": [
    "len(urls)"
   ]
  },
  {
   "cell_type": "markdown",
   "metadata": {},
   "source": [
    "# Step 4 Using the URLs to download the images"
   ]
  },
  {
   "cell_type": "code",
   "execution_count": 88,
   "metadata": {},
   "outputs": [],
   "source": [
    "import shutil\n",
    "import requests"
   ]
  },
  {
   "cell_type": "code",
   "execution_count": 89,
   "metadata": {},
   "outputs": [
    {
     "name": "stdout",
     "output_type": "stream",
     "text": [
      "Downloading 1 of 76 images from page 1\n",
      "Downloading 2 of 76 images from page 1\n",
      "Downloading 3 of 76 images from page 1\n",
      "Downloading 4 of 76 images from page 1\n",
      "Downloading 5 of 76 images from page 1\n",
      "Downloading 6 of 76 images from page 1\n",
      "Downloading 7 of 76 images from page 1\n",
      "Downloading 8 of 76 images from page 1\n",
      "Downloading 9 of 76 images from page 1\n",
      "Downloading 10 of 76 images from page 1\n",
      "Downloading 11 of 76 images from page 1\n",
      "Downloading 12 of 76 images from page 1\n",
      "Downloading 13 of 76 images from page 1\n",
      "Downloading 14 of 76 images from page 1\n",
      "Downloading 15 of 76 images from page 1\n",
      "Downloading 16 of 76 images from page 1\n",
      "Downloading 17 of 76 images from page 1\n",
      "Downloading 18 of 76 images from page 1\n",
      "Downloading 19 of 76 images from page 1\n",
      "Downloading 20 of 76 images from page 1\n",
      "Downloading 21 of 76 images from page 1\n",
      "Downloading 22 of 76 images from page 1\n",
      "Downloading 23 of 76 images from page 1\n",
      "Downloading 24 of 76 images from page 1\n",
      "Downloading 25 of 76 images from page 1\n",
      "Downloading 26 of 76 images from page 1\n",
      "Downloading 27 of 76 images from page 1\n",
      "Downloading 28 of 76 images from page 1\n",
      "Downloading 29 of 76 images from page 1\n",
      "Downloading 30 of 76 images from page 1\n",
      "Downloading 31 of 76 images from page 1\n",
      "Downloading 32 of 76 images from page 1\n",
      "Downloading 33 of 76 images from page 1\n",
      "Downloading 34 of 76 images from page 1\n",
      "Downloading 35 of 76 images from page 1\n",
      "Downloading 36 of 76 images from page 1\n",
      "Downloading 37 of 76 images from page 1\n",
      "Downloading 38 of 76 images from page 1\n",
      "Downloading 39 of 76 images from page 1\n",
      "Downloading 40 of 76 images from page 1\n",
      "Downloading 41 of 76 images from page 1\n",
      "Downloading 42 of 76 images from page 1\n",
      "Downloading 43 of 76 images from page 1\n",
      "Downloading 44 of 76 images from page 1\n",
      "Downloading 45 of 76 images from page 1\n",
      "Downloading 46 of 76 images from page 1\n",
      "Downloading 47 of 76 images from page 1\n",
      "Downloading 48 of 76 images from page 1\n",
      "Downloading 49 of 76 images from page 1\n",
      "Downloading 50 of 76 images from page 1\n",
      "Downloading 51 of 76 images from page 1\n",
      "Downloading 52 of 76 images from page 1\n",
      "Downloading 53 of 76 images from page 1\n",
      "Downloading 54 of 76 images from page 1\n",
      "Downloading 55 of 76 images from page 1\n",
      "Downloading 56 of 76 images from page 1\n",
      "Downloading 57 of 76 images from page 1\n",
      "Downloading 58 of 76 images from page 1\n",
      "Downloading 59 of 76 images from page 1\n",
      "Downloading 60 of 76 images from page 1\n",
      "Downloading 61 of 76 images from page 1\n",
      "Downloading 62 of 76 images from page 1\n",
      "Downloading 63 of 76 images from page 1\n",
      "Downloading 64 of 76 images from page 1\n",
      "Downloading 65 of 76 images from page 1\n",
      "Downloading 66 of 76 images from page 1\n",
      "Downloading 67 of 76 images from page 1\n",
      "Downloading 68 of 76 images from page 1\n",
      "Downloading 69 of 76 images from page 1\n",
      "Downloading 70 of 76 images from page 1\n",
      "Downloading 71 of 76 images from page 1\n",
      "Downloading 72 of 76 images from page 1\n",
      "Downloading 73 of 76 images from page 1\n",
      "Downloading 74 of 76 images from page 1\n",
      "Downloading 75 of 76 images from page 1\n",
      "Downloading 76 of 76 images from page 1\n"
     ]
    }
   ],
   "source": [
    "page=1\n",
    "for index, link in enumerate(urls):\n",
    "    print('Downloading {0} of {1} images from page 1'.format(index+1,len(urls)))\n",
    "    response=requests.get(link)\n",
    "    with open('Sarees/img_{0}{1}.jpeg'.format(index,page),'wb') as file:\n",
    "        file.write(response.content)"
   ]
  },
  {
   "cell_type": "markdown",
   "metadata": {},
   "source": [
    "# Now moving to the next page"
   ]
  },
  {
   "cell_type": "code",
   "execution_count": 94,
   "metadata": {},
   "outputs": [],
   "source": [
    "\n",
    "next_page=driver.find_element_by_xpath('//li[@class=\"a-last\"]//a').click()"
   ]
  },
  {
   "cell_type": "code",
   "execution_count": 100,
   "metadata": {},
   "outputs": [],
   "source": [
    "# Following the same steps from step 3 onwards.\n",
    "\n",
    "images = driver.find_elements_by_xpath('//img[@class=\"s-image\"]')"
   ]
  },
  {
   "cell_type": "code",
   "execution_count": 101,
   "metadata": {},
   "outputs": [
    {
     "name": "stdout",
     "output_type": "stream",
     "text": [
      "60\n"
     ]
    }
   ],
   "source": [
    "print(len(images))"
   ]
  },
  {
   "cell_type": "code",
   "execution_count": 102,
   "metadata": {},
   "outputs": [
    {
     "data": {
      "text/plain": [
       "<selenium.webdriver.remote.webelement.WebElement (session=\"d7d697d3aaa958e8971b9a529eb17187\", element=\"1da32523-08f5-4479-9ae0-4ebd697388ae\")>"
      ]
     },
     "execution_count": 102,
     "metadata": {},
     "output_type": "execute_result"
    }
   ],
   "source": [
    "images[0]"
   ]
  },
  {
   "cell_type": "code",
   "execution_count": 103,
   "metadata": {},
   "outputs": [
    {
     "name": "stdout",
     "output_type": "stream",
     "text": [
      "https://m.media-amazon.com/images/I/61cZPLVYy0L._AC_UL320_.jpg\n",
      "https://m.media-amazon.com/images/I/91PpAJLyHYL._AC_UL320_.jpg\n",
      "https://m.media-amazon.com/images/I/51R7ugoctbL._AC_UL320_.jpg\n",
      "https://m.media-amazon.com/images/I/71ExEuLrOYL._AC_UL320_.jpg\n",
      "https://m.media-amazon.com/images/I/61RkSdbZWBL._AC_UL320_.jpg\n",
      "https://m.media-amazon.com/images/I/81UDQk5Vn9L._AC_UL320_.jpg\n",
      "https://m.media-amazon.com/images/I/61JCln0o8dL._AC_UL320_.jpg\n",
      "https://m.media-amazon.com/images/I/71GKOi7ptgL._AC_UL320_.jpg\n",
      "https://m.media-amazon.com/images/I/81mySm+20TL._AC_UL320_.jpg\n",
      "https://m.media-amazon.com/images/I/61pu-B2TO0L._AC_UL320_.jpg\n",
      "https://m.media-amazon.com/images/I/71iO7grGNRL._AC_UL320_.jpg\n",
      "https://m.media-amazon.com/images/I/81WaewgiFNL._AC_UL320_.jpg\n",
      "https://m.media-amazon.com/images/I/718ea0qYxxL._AC_UL320_.jpg\n",
      "https://m.media-amazon.com/images/I/71vq6lTlfUL._AC_UL320_.jpg\n",
      "https://m.media-amazon.com/images/I/71tifG7W0RL._AC_UL320_.jpg\n",
      "https://m.media-amazon.com/images/I/71kvLf0JKOL._AC_UL320_.jpg\n",
      "https://m.media-amazon.com/images/I/71ZoHJtC9SL._AC_UL320_.jpg\n",
      "https://m.media-amazon.com/images/I/513j8kBzZLL._AC_UL320_.jpg\n",
      "https://m.media-amazon.com/images/I/914pBUlg3SL._AC_UL320_.jpg\n",
      "https://m.media-amazon.com/images/I/71uzkWrtBlL._AC_UL320_.jpg\n",
      "https://m.media-amazon.com/images/I/71oF5BJnTXL._AC_UL320_.jpg\n",
      "https://m.media-amazon.com/images/I/31Tqu5XXdBL._AC_UL320_.jpg\n",
      "https://m.media-amazon.com/images/I/81HXP4YAntL._AC_UL320_.jpg\n",
      "https://m.media-amazon.com/images/I/31-wolMPybL._AC_UL320_.jpg\n",
      "https://m.media-amazon.com/images/I/61XMFZhgVvL._AC_UL320_.jpg\n",
      "https://m.media-amazon.com/images/I/51OKb6Rn15L._AC_UL320_.jpg\n",
      "https://m.media-amazon.com/images/I/71H+wwqqLvL._AC_UL320_.jpg\n",
      "https://m.media-amazon.com/images/I/812pEoh3BmL._AC_UL320_.jpg\n",
      "https://m.media-amazon.com/images/I/81JJtUl574L._AC_UL320_.jpg\n",
      "https://m.media-amazon.com/images/I/71gWryb+EiL._AC_UL320_.jpg\n",
      "https://m.media-amazon.com/images/I/91ynBWg3puL._AC_UL320_.jpg\n",
      "https://m.media-amazon.com/images/I/41h3rCjJ-NL._AC_UL320_.jpg\n",
      "https://m.media-amazon.com/images/I/616YO9nOb+L._AC_UL320_.jpg\n",
      "https://m.media-amazon.com/images/I/81PnkwRAagL._AC_UL320_.jpg\n",
      "https://m.media-amazon.com/images/I/71K8VfgS3tL._AC_UL320_.jpg\n",
      "https://m.media-amazon.com/images/I/91F35Uh2axL._AC_UL320_.jpg\n",
      "https://m.media-amazon.com/images/I/51Y7wsEFkkL._AC_UL320_.jpg\n",
      "https://m.media-amazon.com/images/I/716+H+lO-+L._AC_UL320_.jpg\n",
      "https://m.media-amazon.com/images/I/61P4pD5QAJL._AC_UL320_.jpg\n",
      "https://m.media-amazon.com/images/I/712qoIsvU+L._AC_UL320_.jpg\n",
      "https://m.media-amazon.com/images/I/715Eq9LpiKL._AC_UL320_.jpg\n",
      "https://m.media-amazon.com/images/I/91yo+G2rJ1L._AC_UL320_.jpg\n",
      "https://m.media-amazon.com/images/I/71TJ9p46PVL._AC_UL320_.jpg\n",
      "https://m.media-amazon.com/images/I/81jjipfftHL._AC_UL320_.jpg\n",
      "https://m.media-amazon.com/images/I/913JOwQqIdL._AC_UL320_.jpg\n",
      "https://m.media-amazon.com/images/I/91klKQl3iJL._AC_UL320_.jpg\n",
      "https://m.media-amazon.com/images/I/616SqYTeQlL._AC_UL320_.jpg\n",
      "https://m.media-amazon.com/images/I/815SZPYz7gL._AC_UL320_.jpg\n",
      "https://m.media-amazon.com/images/I/61XCr2jK3vL._AC_UL320_.jpg\n",
      "https://m.media-amazon.com/images/I/51A4mhbufgL._AC_UL320_.jpg\n",
      "https://m.media-amazon.com/images/I/71gb--WRSHL._AC_UL320_.jpg\n",
      "https://m.media-amazon.com/images/I/91Q2rGY28WL._AC_UL320_.jpg\n",
      "https://m.media-amazon.com/images/I/91YFGHzjm4L._AC_UL320_.jpg\n",
      "https://m.media-amazon.com/images/I/518nmMcBEdL._AC_UL320_.jpg\n",
      "https://m.media-amazon.com/images/I/811IXCvI3wL._AC_UL320_.jpg\n",
      "https://m.media-amazon.com/images/I/917lVlYbdAL._AC_UL320_.jpg\n",
      "https://m.media-amazon.com/images/I/91z2yxX+meL._AC_UL320_.jpg\n",
      "https://m.media-amazon.com/images/I/91-qT8cLXAL._AC_UL320_.jpg\n",
      "https://m.media-amazon.com/images/I/91V0UAaDM2L._AC_UL320_.jpg\n",
      "https://m.media-amazon.com/images/I/918ZHJU047L._AC_UL320_.jpg\n"
     ]
    }
   ],
   "source": [
    "urls=[]\n",
    "for image in images:\n",
    "    source=image.get_attribute('src')\n",
    "    urls.append(source)\n",
    "    print(source)"
   ]
  },
  {
   "cell_type": "code",
   "execution_count": 104,
   "metadata": {},
   "outputs": [
    {
     "name": "stdout",
     "output_type": "stream",
     "text": [
      "Downloading 1 of 60 images from page 2\n",
      "Downloading 2 of 60 images from page 2\n",
      "Downloading 3 of 60 images from page 2\n",
      "Downloading 4 of 60 images from page 2\n",
      "Downloading 5 of 60 images from page 2\n",
      "Downloading 6 of 60 images from page 2\n",
      "Downloading 7 of 60 images from page 2\n",
      "Downloading 8 of 60 images from page 2\n",
      "Downloading 9 of 60 images from page 2\n",
      "Downloading 10 of 60 images from page 2\n",
      "Downloading 11 of 60 images from page 2\n",
      "Downloading 12 of 60 images from page 2\n",
      "Downloading 13 of 60 images from page 2\n",
      "Downloading 14 of 60 images from page 2\n",
      "Downloading 15 of 60 images from page 2\n",
      "Downloading 16 of 60 images from page 2\n",
      "Downloading 17 of 60 images from page 2\n",
      "Downloading 18 of 60 images from page 2\n",
      "Downloading 19 of 60 images from page 2\n",
      "Downloading 20 of 60 images from page 2\n",
      "Downloading 21 of 60 images from page 2\n",
      "Downloading 22 of 60 images from page 2\n",
      "Downloading 23 of 60 images from page 2\n",
      "Downloading 24 of 60 images from page 2\n",
      "Downloading 25 of 60 images from page 2\n",
      "Downloading 26 of 60 images from page 2\n",
      "Downloading 27 of 60 images from page 2\n",
      "Downloading 28 of 60 images from page 2\n",
      "Downloading 29 of 60 images from page 2\n",
      "Downloading 30 of 60 images from page 2\n",
      "Downloading 31 of 60 images from page 2\n",
      "Downloading 32 of 60 images from page 2\n",
      "Downloading 33 of 60 images from page 2\n",
      "Downloading 34 of 60 images from page 2\n",
      "Downloading 35 of 60 images from page 2\n",
      "Downloading 36 of 60 images from page 2\n",
      "Downloading 37 of 60 images from page 2\n",
      "Downloading 38 of 60 images from page 2\n",
      "Downloading 39 of 60 images from page 2\n",
      "Downloading 40 of 60 images from page 2\n",
      "Downloading 41 of 60 images from page 2\n",
      "Downloading 42 of 60 images from page 2\n",
      "Downloading 43 of 60 images from page 2\n",
      "Downloading 44 of 60 images from page 2\n",
      "Downloading 45 of 60 images from page 2\n",
      "Downloading 46 of 60 images from page 2\n",
      "Downloading 47 of 60 images from page 2\n",
      "Downloading 48 of 60 images from page 2\n",
      "Downloading 49 of 60 images from page 2\n",
      "Downloading 50 of 60 images from page 2\n",
      "Downloading 51 of 60 images from page 2\n",
      "Downloading 52 of 60 images from page 2\n",
      "Downloading 53 of 60 images from page 2\n",
      "Downloading 54 of 60 images from page 2\n",
      "Downloading 55 of 60 images from page 2\n",
      "Downloading 56 of 60 images from page 2\n",
      "Downloading 57 of 60 images from page 2\n",
      "Downloading 58 of 60 images from page 2\n",
      "Downloading 59 of 60 images from page 2\n",
      "Downloading 60 of 60 images from page 2\n"
     ]
    }
   ],
   "source": [
    "page=2\n",
    "for index, link in enumerate(urls):\n",
    "    print('Downloading {0} of {1} images from page 2'.format(index+1,len(urls)))\n",
    "    response=requests.get(link)\n",
    "    with open('Sarees/img_{0}{1}.jpeg'.format(index,page),'wb') as file:\n",
    "        file.write(response.content)"
   ]
  },
  {
   "cell_type": "code",
   "execution_count": 105,
   "metadata": {},
   "outputs": [],
   "source": [
    "next_page=driver.find_element_by_xpath('//li[@class=\"a-last\"]//a').click()"
   ]
  },
  {
   "cell_type": "code",
   "execution_count": 106,
   "metadata": {},
   "outputs": [],
   "source": [
    "images = driver.find_elements_by_xpath('//img[@class=\"s-image\"]')"
   ]
  },
  {
   "cell_type": "code",
   "execution_count": 107,
   "metadata": {},
   "outputs": [
    {
     "name": "stdout",
     "output_type": "stream",
     "text": [
      "39\n"
     ]
    }
   ],
   "source": [
    "print(len(images))"
   ]
  },
  {
   "cell_type": "code",
   "execution_count": 108,
   "metadata": {},
   "outputs": [
    {
     "data": {
      "text/plain": [
       "<selenium.webdriver.remote.webelement.WebElement (session=\"d7d697d3aaa958e8971b9a529eb17187\", element=\"48763934-ea26-4d9c-a3e4-07d55b97caf2\")>"
      ]
     },
     "execution_count": 108,
     "metadata": {},
     "output_type": "execute_result"
    }
   ],
   "source": [
    "images[1]"
   ]
  },
  {
   "cell_type": "code",
   "execution_count": 109,
   "metadata": {},
   "outputs": [
    {
     "name": "stdout",
     "output_type": "stream",
     "text": [
      "https://m.media-amazon.com/images/I/710xQNEUZXL._AC_UL320_.jpg\n",
      "https://m.media-amazon.com/images/I/81G+1q2wATL._AC_UL320_.jpg\n",
      "https://m.media-amazon.com/images/I/71dgVsYhhqL._AC_UL320_.jpg\n",
      "https://m.media-amazon.com/images/I/714yN9iwy0L._AC_UL320_.jpg\n",
      "https://m.media-amazon.com/images/I/815SZPYz7gL._AC_UL320_.jpg\n",
      "https://m.media-amazon.com/images/I/61XCr2jK3vL._AC_UL320_.jpg\n",
      "https://m.media-amazon.com/images/I/51A4mhbufgL._AC_UL320_.jpg\n",
      "https://m.media-amazon.com/images/I/71gb--WRSHL._AC_UL320_.jpg\n",
      "https://m.media-amazon.com/images/I/91Q2rGY28WL._AC_UL320_.jpg\n",
      "https://m.media-amazon.com/images/I/91YFGHzjm4L._AC_UL320_.jpg\n",
      "https://m.media-amazon.com/images/I/518nmMcBEdL._AC_UL320_.jpg\n",
      "https://m.media-amazon.com/images/I/811IXCvI3wL._AC_UL320_.jpg\n",
      "https://m.media-amazon.com/images/I/917lVlYbdAL._AC_UL320_.jpg\n",
      "https://m.media-amazon.com/images/I/81FKiy6WRaL._AC_UL320_.jpg\n",
      "https://m.media-amazon.com/images/I/71DLhI+syxL._AC_UL320_.jpg\n",
      "https://m.media-amazon.com/images/I/81aPqWbygLL._AC_UL320_.jpg\n",
      "https://m.media-amazon.com/images/I/81HisZMSAVL._AC_UL320_.jpg\n",
      "https://m.media-amazon.com/images/I/61glAb2lHHL._AC_UL320_.jpg\n",
      "https://m.media-amazon.com/images/I/713ZHJC3OHL._AC_UL320_.jpg\n",
      "https://m.media-amazon.com/images/I/71av0R8f99L._AC_UL320_.jpg\n",
      "https://m.media-amazon.com/images/I/91dsIB8JSPL._AC_UL320_.jpg\n",
      "https://m.media-amazon.com/images/I/91vkoob7AIL._AC_UL320_.jpg\n",
      "https://m.media-amazon.com/images/I/912GNJ9vdLL._AC_UL320_.jpg\n",
      "https://m.media-amazon.com/images/I/812Dl-qmaUL._AC_UL320_.jpg\n",
      "https://m.media-amazon.com/images/I/41VVsfj7bKL._AC_UL320_.jpg\n",
      "https://m.media-amazon.com/images/I/9152RfrDRJL._AC_UL320_.jpg\n",
      "https://m.media-amazon.com/images/I/71qi9oqC8LL._AC_UL320_.jpg\n",
      "https://m.media-amazon.com/images/I/91pnS8srXHL._AC_UL320_.jpg\n",
      "https://m.media-amazon.com/images/I/916PwQG4MmL._AC_UL320_.jpg\n",
      "https://m.media-amazon.com/images/I/41oHWipUgCL._AC_UL320_.jpg\n",
      "https://m.media-amazon.com/images/I/91ZXr8iTpaL._AC_UL320_.jpg\n",
      "https://m.media-amazon.com/images/I/71Ookz0vUqL._AC_UL320_.jpg\n",
      "https://m.media-amazon.com/images/I/91K7kfay53L._AC_UL320_.jpg\n",
      "https://m.media-amazon.com/images/I/81+WHPdm5DL._AC_UL320_.jpg\n",
      "https://m.media-amazon.com/images/I/81ZeCBM0FeL._AC_UL320_.jpg\n",
      "https://m.media-amazon.com/images/I/81+SE0a-VuL._AC_UL320_.jpg\n",
      "https://m.media-amazon.com/images/I/711Ua695yuL._AC_UL320_.jpg\n",
      "https://m.media-amazon.com/images/I/81zAq1sPcQL._AC_UL320_.jpg\n",
      "https://m.media-amazon.com/images/I/91eQhbcf-XL._AC_UL320_.jpg\n"
     ]
    }
   ],
   "source": [
    "urls=[]\n",
    "for image in images:\n",
    "    source=image.get_attribute('src')\n",
    "    urls.append(source)\n",
    "    print(source)"
   ]
  },
  {
   "cell_type": "code",
   "execution_count": 110,
   "metadata": {},
   "outputs": [
    {
     "name": "stdout",
     "output_type": "stream",
     "text": [
      "Downloading 1 of 39 images from page 3\n",
      "Downloading 2 of 39 images from page 3\n",
      "Downloading 3 of 39 images from page 3\n",
      "Downloading 4 of 39 images from page 3\n",
      "Downloading 5 of 39 images from page 3\n",
      "Downloading 6 of 39 images from page 3\n",
      "Downloading 7 of 39 images from page 3\n",
      "Downloading 8 of 39 images from page 3\n",
      "Downloading 9 of 39 images from page 3\n",
      "Downloading 10 of 39 images from page 3\n",
      "Downloading 11 of 39 images from page 3\n",
      "Downloading 12 of 39 images from page 3\n",
      "Downloading 13 of 39 images from page 3\n",
      "Downloading 14 of 39 images from page 3\n",
      "Downloading 15 of 39 images from page 3\n",
      "Downloading 16 of 39 images from page 3\n",
      "Downloading 17 of 39 images from page 3\n",
      "Downloading 18 of 39 images from page 3\n",
      "Downloading 19 of 39 images from page 3\n",
      "Downloading 20 of 39 images from page 3\n",
      "Downloading 21 of 39 images from page 3\n",
      "Downloading 22 of 39 images from page 3\n",
      "Downloading 23 of 39 images from page 3\n",
      "Downloading 24 of 39 images from page 3\n",
      "Downloading 25 of 39 images from page 3\n",
      "Downloading 26 of 39 images from page 3\n",
      "Downloading 27 of 39 images from page 3\n",
      "Downloading 28 of 39 images from page 3\n",
      "Downloading 29 of 39 images from page 3\n",
      "Downloading 30 of 39 images from page 3\n",
      "Downloading 31 of 39 images from page 3\n",
      "Downloading 32 of 39 images from page 3\n",
      "Downloading 33 of 39 images from page 3\n",
      "Downloading 34 of 39 images from page 3\n",
      "Downloading 35 of 39 images from page 3\n",
      "Downloading 36 of 39 images from page 3\n",
      "Downloading 37 of 39 images from page 3\n",
      "Downloading 38 of 39 images from page 3\n",
      "Downloading 39 of 39 images from page 3\n"
     ]
    }
   ],
   "source": [
    "page=3\n",
    "for index, link in enumerate(urls):\n",
    "    print('Downloading {0} of {1} images from page 3'.format(index+1,len(urls)))\n",
    "    response=requests.get(link)\n",
    "    with open('Sarees/img_{0}{1}.jpeg'.format(index,page),'wb') as file:\n",
    "        file.write(response.content)"
   ]
  },
  {
   "cell_type": "code",
   "execution_count": 111,
   "metadata": {},
   "outputs": [],
   "source": [
    "next_page=driver.find_element_by_xpath('//li[@class=\"a-last\"]//a').click()"
   ]
  },
  {
   "cell_type": "code",
   "execution_count": 112,
   "metadata": {},
   "outputs": [],
   "source": [
    "images = driver.find_elements_by_xpath('//img[@class=\"s-image\"]')"
   ]
  },
  {
   "cell_type": "code",
   "execution_count": 113,
   "metadata": {},
   "outputs": [
    {
     "name": "stdout",
     "output_type": "stream",
     "text": [
      "31\n"
     ]
    }
   ],
   "source": [
    "print(len(images))"
   ]
  },
  {
   "cell_type": "code",
   "execution_count": 114,
   "metadata": {},
   "outputs": [
    {
     "data": {
      "text/plain": [
       "<selenium.webdriver.remote.webelement.WebElement (session=\"d7d697d3aaa958e8971b9a529eb17187\", element=\"1f812173-13ce-440e-939b-2d246d8e8a12\")>"
      ]
     },
     "execution_count": 114,
     "metadata": {},
     "output_type": "execute_result"
    }
   ],
   "source": [
    "images[2]"
   ]
  },
  {
   "cell_type": "code",
   "execution_count": 115,
   "metadata": {},
   "outputs": [
    {
     "name": "stdout",
     "output_type": "stream",
     "text": [
      "https://m.media-amazon.com/images/I/714cYdaM7cL._AC_UL320_.jpg\n",
      "https://m.media-amazon.com/images/I/91D6IjjGHoL._AC_UL320_.jpg\n",
      "https://m.media-amazon.com/images/I/71lz-y8hYBL._AC_UL320_.jpg\n",
      "https://m.media-amazon.com/images/I/81zfa7dmqUL._AC_UL320_.jpg\n",
      "https://m.media-amazon.com/images/I/415hYJUqENL._AC_UL320_.jpg\n",
      "https://m.media-amazon.com/images/I/7173KkOWc1L._AC_UL320_.jpg\n",
      "https://m.media-amazon.com/images/I/814wlzlKlrL._AC_UL320_.jpg\n",
      "https://m.media-amazon.com/images/I/51I0ZJ8yeDL._AC_UL320_.jpg\n",
      "https://m.media-amazon.com/images/I/91KPk+N377L._AC_UL320_.jpg\n",
      "https://m.media-amazon.com/images/I/81ZxFTIAirL._AC_UL320_.jpg\n",
      "https://m.media-amazon.com/images/I/71Ecj9TEFLL._AC_UL320_.jpg\n",
      "https://m.media-amazon.com/images/I/71OOk0TglAL._AC_UL320_.jpg\n",
      "https://m.media-amazon.com/images/I/61Ik9++oOuL._AC_UL320_.jpg\n",
      "https://m.media-amazon.com/images/I/91hnIcKX7eL._AC_UL320_.jpg\n",
      "https://m.media-amazon.com/images/I/71WO6GG+AmL._AC_UL320_.jpg\n",
      "https://m.media-amazon.com/images/I/91KSsQtLhbL._AC_UL320_.jpg\n",
      "https://m.media-amazon.com/images/I/71s9IOdhTiL._AC_UL320_.jpg\n",
      "https://m.media-amazon.com/images/I/91K7HdCKBDL._AC_UL320_.jpg\n",
      "https://m.media-amazon.com/images/I/81JE98ug38L._AC_UL320_.jpg\n",
      "https://m.media-amazon.com/images/I/915xRJeqDXL._AC_UL320_.jpg\n",
      "https://m.media-amazon.com/images/I/914AKOTEx2L._AC_UL320_.jpg\n",
      "https://m.media-amazon.com/images/I/91VBQLLhk-L._AC_UL320_.jpg\n",
      "https://m.media-amazon.com/images/I/91Aif4Jn7VL._AC_UL320_.jpg\n",
      "https://m.media-amazon.com/images/I/61pGn5hd42L._AC_UL320_.jpg\n",
      "https://m.media-amazon.com/images/I/51JztTLSacL._AC_UL320_.jpg\n",
      "https://m.media-amazon.com/images/I/91jNS9h3QjL._AC_UL320_.jpg\n",
      "https://m.media-amazon.com/images/I/71qv4-LCeCL._AC_UL320_.jpg\n",
      "https://m.media-amazon.com/images/I/91DE8MpDQcL._AC_UL320_.jpg\n",
      "https://m.media-amazon.com/images/I/91nVhmjebmL._AC_UL320_.jpg\n",
      "https://m.media-amazon.com/images/I/61dN+uBUsbL._AC_UL320_.jpg\n",
      "https://m.media-amazon.com/images/I/61BlGtwvGEL._AC_UL320_.jpg\n"
     ]
    }
   ],
   "source": [
    "urls=[]\n",
    "for image in images:\n",
    "    source=image.get_attribute('src')\n",
    "    urls.append(source)\n",
    "    print(source)"
   ]
  },
  {
   "cell_type": "code",
   "execution_count": 116,
   "metadata": {},
   "outputs": [
    {
     "name": "stdout",
     "output_type": "stream",
     "text": [
      "Downloading 1 of 31 images from page 4\n",
      "Downloading 2 of 31 images from page 4\n",
      "Downloading 3 of 31 images from page 4\n",
      "Downloading 4 of 31 images from page 4\n",
      "Downloading 5 of 31 images from page 4\n",
      "Downloading 6 of 31 images from page 4\n",
      "Downloading 7 of 31 images from page 4\n",
      "Downloading 8 of 31 images from page 4\n",
      "Downloading 9 of 31 images from page 4\n",
      "Downloading 10 of 31 images from page 4\n",
      "Downloading 11 of 31 images from page 4\n",
      "Downloading 12 of 31 images from page 4\n",
      "Downloading 13 of 31 images from page 4\n",
      "Downloading 14 of 31 images from page 4\n",
      "Downloading 15 of 31 images from page 4\n",
      "Downloading 16 of 31 images from page 4\n",
      "Downloading 17 of 31 images from page 4\n",
      "Downloading 18 of 31 images from page 4\n",
      "Downloading 19 of 31 images from page 4\n",
      "Downloading 20 of 31 images from page 4\n",
      "Downloading 21 of 31 images from page 4\n",
      "Downloading 22 of 31 images from page 4\n",
      "Downloading 23 of 31 images from page 4\n",
      "Downloading 24 of 31 images from page 4\n",
      "Downloading 25 of 31 images from page 4\n",
      "Downloading 26 of 31 images from page 4\n",
      "Downloading 27 of 31 images from page 4\n",
      "Downloading 28 of 31 images from page 4\n",
      "Downloading 29 of 31 images from page 4\n",
      "Downloading 30 of 31 images from page 4\n",
      "Downloading 31 of 31 images from page 4\n"
     ]
    }
   ],
   "source": [
    "page=4\n",
    "for index, link in enumerate(urls):\n",
    "    print('Downloading {0} of {1} images from page 4'.format(index+1,len(urls)))\n",
    "    response=requests.get(link)\n",
    "    with open('Sarees/img_{0}{1}.jpeg'.format(index,page),'wb') as file:\n",
    "        file.write(response.content)"
   ]
  },
  {
   "cell_type": "markdown",
   "metadata": {},
   "source": [
    "# Trousers"
   ]
  },
  {
   "cell_type": "code",
   "execution_count": 117,
   "metadata": {},
   "outputs": [],
   "source": [
    "my_page= driver.get('https://www.amazon.in/s?k=Trousers+%28men%29&ref=nb_sb_noss_2')"
   ]
  },
  {
   "cell_type": "code",
   "execution_count": 118,
   "metadata": {},
   "outputs": [],
   "source": [
    "def make_directory(dirname):\n",
    "    current_path=os.getcwd()\n",
    "    path=os.path.join(current_path,dirname)\n",
    "    if not os.path.exists(path):\n",
    "        os.makedirs(path)"
   ]
  },
  {
   "cell_type": "code",
   "execution_count": 119,
   "metadata": {},
   "outputs": [],
   "source": [
    "make_directory('Trousers (men)')"
   ]
  },
  {
   "cell_type": "code",
   "execution_count": 120,
   "metadata": {},
   "outputs": [],
   "source": [
    "images = driver.find_elements_by_xpath('//img[@class=\"s-image\"]')\n"
   ]
  },
  {
   "cell_type": "code",
   "execution_count": 121,
   "metadata": {},
   "outputs": [
    {
     "name": "stdout",
     "output_type": "stream",
     "text": [
      "60\n"
     ]
    }
   ],
   "source": [
    "print(len(images))"
   ]
  },
  {
   "cell_type": "code",
   "execution_count": 122,
   "metadata": {},
   "outputs": [
    {
     "data": {
      "text/plain": [
       "<selenium.webdriver.remote.webelement.WebElement (session=\"d7d697d3aaa958e8971b9a529eb17187\", element=\"38ec30b5-30af-4caf-b6b0-64b4ad14d969\")>"
      ]
     },
     "execution_count": 122,
     "metadata": {},
     "output_type": "execute_result"
    }
   ],
   "source": [
    "images[0]"
   ]
  },
  {
   "cell_type": "code",
   "execution_count": 123,
   "metadata": {},
   "outputs": [
    {
     "name": "stdout",
     "output_type": "stream",
     "text": [
      "https://m.media-amazon.com/images/I/410mOPsh8XL._AC_UL320_.jpg\n",
      "https://m.media-amazon.com/images/I/51vv88J+LAL._AC_UL320_.jpg\n",
      "https://m.media-amazon.com/images/I/61F0za9hcrL._AC_UL320_.jpg\n",
      "https://m.media-amazon.com/images/I/81aoto4oQuL._AC_UL320_.jpg\n",
      "https://m.media-amazon.com/images/I/81Mh56Yf83L._AC_UL320_.jpg\n",
      "https://m.media-amazon.com/images/I/71KGSohd2qL._AC_UL320_.jpg\n",
      "https://m.media-amazon.com/images/I/71o4Wrj45oL._AC_UL320_.jpg\n",
      "https://m.media-amazon.com/images/I/71hIJ5bGaVL._AC_UL320_.jpg\n",
      "https://m.media-amazon.com/images/I/818Yyyi0VPL._AC_UL320_.jpg\n",
      "https://m.media-amazon.com/images/I/61ejkDyiQiL._AC_UL320_.jpg\n",
      "https://m.media-amazon.com/images/I/71+SNWIF2xL._AC_UL320_.jpg\n",
      "https://m.media-amazon.com/images/I/61I4QIYowrL._AC_UL320_.jpg\n",
      "https://m.media-amazon.com/images/I/71tHnPbUjVL._AC_UL320_.jpg\n",
      "https://m.media-amazon.com/images/I/81oSMvrm9vL._AC_UL320_.jpg\n",
      "https://m.media-amazon.com/images/I/71DPJ1UIMHL._AC_UL320_.jpg\n",
      "https://m.media-amazon.com/images/I/71j0UC3swWL._AC_UL320_.jpg\n",
      "https://m.media-amazon.com/images/I/718TIKRkEkL._AC_UL320_.jpg\n",
      "https://m.media-amazon.com/images/I/81Lg1x1O29L._AC_UL320_.jpg\n",
      "https://m.media-amazon.com/images/I/71qzQWoqDvL._AC_UL320_.jpg\n",
      "https://m.media-amazon.com/images/I/81vOn7CyUWL._AC_UL320_.jpg\n",
      "https://m.media-amazon.com/images/I/81RQWN2nENL._AC_UL320_.jpg\n",
      "https://m.media-amazon.com/images/I/61h5UpFVZxL._AC_UL320_.jpg\n",
      "https://m.media-amazon.com/images/I/51lLwxVA6EL._AC_UL320_.jpg\n",
      "https://m.media-amazon.com/images/I/61xYeYFEOiL._AC_UL320_.jpg\n",
      "https://m.media-amazon.com/images/I/713qaM-JINL._AC_UL320_.jpg\n",
      "https://m.media-amazon.com/images/I/71n1d2t5wML._AC_UL320_.jpg\n",
      "https://m.media-amazon.com/images/I/71tNxiDoFlL._AC_UL320_.jpg\n",
      "https://m.media-amazon.com/images/I/71hpAyR81JL._AC_UL320_.jpg\n",
      "https://m.media-amazon.com/images/I/71ZBsa81BoL._AC_UL320_.jpg\n",
      "https://m.media-amazon.com/images/I/713m4qsVHiL._AC_UL320_.jpg\n",
      "https://m.media-amazon.com/images/I/713dIXDonqL._AC_UL320_.jpg\n",
      "https://m.media-amazon.com/images/I/81e9hGPqolL._AC_UL320_.jpg\n",
      "https://m.media-amazon.com/images/I/81C2eaWfBVL._AC_UL320_.jpg\n",
      "https://m.media-amazon.com/images/I/71eVcUEKVcL._AC_UL320_.jpg\n",
      "https://m.media-amazon.com/images/I/810bBm6koOL._AC_UL320_.jpg\n",
      "https://m.media-amazon.com/images/I/71s40nTsNsL._AC_UL320_.jpg\n",
      "https://m.media-amazon.com/images/I/71tnmDxhjcL._AC_UL320_.jpg\n",
      "https://m.media-amazon.com/images/I/71mXHLjYGxL._AC_UL320_.jpg\n",
      "https://m.media-amazon.com/images/I/71FvL5oVixL._AC_UL320_.jpg\n",
      "https://m.media-amazon.com/images/I/81d37fLAwUL._AC_UL320_.jpg\n",
      "https://m.media-amazon.com/images/I/71E2Y7qIc-L._AC_UL320_.jpg\n",
      "https://m.media-amazon.com/images/I/71FUyFmSt1L._AC_UL320_.jpg\n",
      "https://m.media-amazon.com/images/I/81aKPu-Gl-L._AC_UL320_.jpg\n",
      "https://m.media-amazon.com/images/I/61oJfnOhcDL._AC_UL320_.jpg\n",
      "https://m.media-amazon.com/images/I/61vQJspgUXL._AC_UL320_.jpg\n",
      "https://m.media-amazon.com/images/I/71AiOE0oFNL._AC_UL320_.jpg\n",
      "https://m.media-amazon.com/images/I/81zNNsyIftL._AC_UL320_.jpg\n",
      "https://m.media-amazon.com/images/I/71DNfEZg3zL._AC_UL320_.jpg\n",
      "https://m.media-amazon.com/images/I/71hNkE28fqL._AC_UL320_.jpg\n",
      "https://m.media-amazon.com/images/I/71tcAA5VnPL._AC_UL320_.jpg\n",
      "https://m.media-amazon.com/images/I/81YWJKHB6bL._AC_UL320_.jpg\n",
      "https://m.media-amazon.com/images/I/71AXe1pf25L._AC_UL320_.jpg\n",
      "https://m.media-amazon.com/images/I/61dY5W2MOOL._AC_UL320_.jpg\n",
      "https://m.media-amazon.com/images/I/71-303GvwhL._AC_UL320_.jpg\n",
      "https://m.media-amazon.com/images/I/91JjwCNbnVL._AC_UL320_.jpg\n",
      "https://m.media-amazon.com/images/I/71YwmBEx-HL._AC_UL320_.jpg\n",
      "https://m.media-amazon.com/images/I/51hXZnl2aWL._AC_UL320_.jpg\n",
      "https://m.media-amazon.com/images/I/51PAvYvziBL._AC_UL320_.jpg\n",
      "https://m.media-amazon.com/images/I/81IU4qIlN3L._AC_UL320_.jpg\n",
      "https://m.media-amazon.com/images/I/81aKPu-Gl-L._AC_UL320_.jpg\n"
     ]
    }
   ],
   "source": [
    "urls=[]\n",
    "for image in images:\n",
    "    source=image.get_attribute('src')\n",
    "    urls.append(source)\n",
    "    print(source)"
   ]
  },
  {
   "cell_type": "code",
   "execution_count": 124,
   "metadata": {},
   "outputs": [
    {
     "data": {
      "text/plain": [
       "60"
      ]
     },
     "execution_count": 124,
     "metadata": {},
     "output_type": "execute_result"
    }
   ],
   "source": [
    "len(urls)"
   ]
  },
  {
   "cell_type": "code",
   "execution_count": 125,
   "metadata": {},
   "outputs": [
    {
     "name": "stdout",
     "output_type": "stream",
     "text": [
      "Downloading 1 of 60 images from page 1\n",
      "Downloading 2 of 60 images from page 1\n",
      "Downloading 3 of 60 images from page 1\n",
      "Downloading 4 of 60 images from page 1\n",
      "Downloading 5 of 60 images from page 1\n",
      "Downloading 6 of 60 images from page 1\n",
      "Downloading 7 of 60 images from page 1\n",
      "Downloading 8 of 60 images from page 1\n",
      "Downloading 9 of 60 images from page 1\n",
      "Downloading 10 of 60 images from page 1\n",
      "Downloading 11 of 60 images from page 1\n",
      "Downloading 12 of 60 images from page 1\n",
      "Downloading 13 of 60 images from page 1\n",
      "Downloading 14 of 60 images from page 1\n",
      "Downloading 15 of 60 images from page 1\n",
      "Downloading 16 of 60 images from page 1\n",
      "Downloading 17 of 60 images from page 1\n",
      "Downloading 18 of 60 images from page 1\n",
      "Downloading 19 of 60 images from page 1\n",
      "Downloading 20 of 60 images from page 1\n",
      "Downloading 21 of 60 images from page 1\n",
      "Downloading 22 of 60 images from page 1\n",
      "Downloading 23 of 60 images from page 1\n",
      "Downloading 24 of 60 images from page 1\n",
      "Downloading 25 of 60 images from page 1\n",
      "Downloading 26 of 60 images from page 1\n",
      "Downloading 27 of 60 images from page 1\n",
      "Downloading 28 of 60 images from page 1\n",
      "Downloading 29 of 60 images from page 1\n",
      "Downloading 30 of 60 images from page 1\n",
      "Downloading 31 of 60 images from page 1\n",
      "Downloading 32 of 60 images from page 1\n",
      "Downloading 33 of 60 images from page 1\n",
      "Downloading 34 of 60 images from page 1\n",
      "Downloading 35 of 60 images from page 1\n",
      "Downloading 36 of 60 images from page 1\n",
      "Downloading 37 of 60 images from page 1\n",
      "Downloading 38 of 60 images from page 1\n",
      "Downloading 39 of 60 images from page 1\n",
      "Downloading 40 of 60 images from page 1\n",
      "Downloading 41 of 60 images from page 1\n",
      "Downloading 42 of 60 images from page 1\n",
      "Downloading 43 of 60 images from page 1\n",
      "Downloading 44 of 60 images from page 1\n",
      "Downloading 45 of 60 images from page 1\n",
      "Downloading 46 of 60 images from page 1\n",
      "Downloading 47 of 60 images from page 1\n",
      "Downloading 48 of 60 images from page 1\n",
      "Downloading 49 of 60 images from page 1\n",
      "Downloading 50 of 60 images from page 1\n",
      "Downloading 51 of 60 images from page 1\n",
      "Downloading 52 of 60 images from page 1\n",
      "Downloading 53 of 60 images from page 1\n",
      "Downloading 54 of 60 images from page 1\n",
      "Downloading 55 of 60 images from page 1\n",
      "Downloading 56 of 60 images from page 1\n",
      "Downloading 57 of 60 images from page 1\n",
      "Downloading 58 of 60 images from page 1\n",
      "Downloading 59 of 60 images from page 1\n",
      "Downloading 60 of 60 images from page 1\n"
     ]
    }
   ],
   "source": [
    "page=1\n",
    "for index, link in enumerate(urls):\n",
    "    print('Downloading {0} of {1} images from page 1'.format(index+1,len(urls)))\n",
    "    response=requests.get(link)\n",
    "    with open('Trousers (men)/img_{0}{1}.jpeg'.format(index,page),'wb') as file:\n",
    "        file.write(response.content)"
   ]
  },
  {
   "cell_type": "code",
   "execution_count": 126,
   "metadata": {},
   "outputs": [],
   "source": [
    "next_page=driver.find_element_by_xpath('//li[@class=\"a-last\"]//a').click()\n",
    "\n"
   ]
  },
  {
   "cell_type": "code",
   "execution_count": 127,
   "metadata": {},
   "outputs": [],
   "source": [
    "images = driver.find_elements_by_xpath('//img[@class=\"s-image\"]')"
   ]
  },
  {
   "cell_type": "code",
   "execution_count": 128,
   "metadata": {},
   "outputs": [
    {
     "name": "stdout",
     "output_type": "stream",
     "text": [
      "49\n"
     ]
    }
   ],
   "source": [
    "print(len(images))"
   ]
  },
  {
   "cell_type": "code",
   "execution_count": 129,
   "metadata": {},
   "outputs": [
    {
     "data": {
      "text/plain": [
       "<selenium.webdriver.remote.webelement.WebElement (session=\"d7d697d3aaa958e8971b9a529eb17187\", element=\"6d91fc60-500a-4eb4-bee2-d791cf0c954a\")>"
      ]
     },
     "execution_count": 129,
     "metadata": {},
     "output_type": "execute_result"
    }
   ],
   "source": [
    "images[0]"
   ]
  },
  {
   "cell_type": "code",
   "execution_count": 130,
   "metadata": {},
   "outputs": [
    {
     "name": "stdout",
     "output_type": "stream",
     "text": [
      "https://m.media-amazon.com/images/I/518vKALDPuL._AC_UL320_.jpg\n",
      "https://m.media-amazon.com/images/I/81Np37edYiL._AC_UL320_.jpg\n",
      "https://m.media-amazon.com/images/I/51GPPdnaZCL._AC_UL320_.jpg\n",
      "https://m.media-amazon.com/images/I/31NPauoZt5L._AC_UL320_.jpg\n",
      "https://m.media-amazon.com/images/I/71-303GvwhL._AC_UL320_.jpg\n",
      "https://m.media-amazon.com/images/I/81xmg5YHT8L._AC_UL320_.jpg\n",
      "https://m.media-amazon.com/images/I/91JjwCNbnVL._AC_UL320_.jpg\n",
      "https://m.media-amazon.com/images/I/71YwmBEx-HL._AC_UL320_.jpg\n",
      "https://m.media-amazon.com/images/I/81rPL-M9IZL._AC_UL320_.jpg\n",
      "https://m.media-amazon.com/images/I/81zJ1ThxSGL._AC_UL320_.jpg\n",
      "https://m.media-amazon.com/images/I/71Nqz871FSL._AC_UL320_.jpg\n",
      "https://m.media-amazon.com/images/I/81as7hpUXUL._AC_UL320_.jpg\n",
      "https://m.media-amazon.com/images/I/71ULjiT6acL._AC_UL320_.jpg\n",
      "https://m.media-amazon.com/images/I/A1tNj0nvluL._AC_UL320_.jpg\n",
      "https://m.media-amazon.com/images/I/81igJ5rXIVL._AC_UL320_.jpg\n",
      "https://m.media-amazon.com/images/I/710A9NNYTnL._AC_UL320_.jpg\n",
      "https://m.media-amazon.com/images/I/71Jd+qQTfHL._AC_UL320_.jpg\n",
      "https://m.media-amazon.com/images/I/710jQF5ccHL._AC_UL320_.jpg\n",
      "https://m.media-amazon.com/images/I/810qlClVauL._AC_UL320_.jpg\n",
      "https://m.media-amazon.com/images/I/81eHI4j53wL._AC_UL320_.jpg\n",
      "https://m.media-amazon.com/images/I/81aLEvSqU+L._AC_UL320_.jpg\n",
      "https://m.media-amazon.com/images/I/71W33t0J2iL._AC_UL320_.jpg\n",
      "https://m.media-amazon.com/images/I/81V+cLWewjL._AC_UL320_.jpg\n",
      "https://m.media-amazon.com/images/I/61r2owtmjtL._AC_UL320_.jpg\n",
      "https://m.media-amazon.com/images/I/71cW418TWXL._AC_UL320_.jpg\n",
      "https://m.media-amazon.com/images/I/81WRJV69lyL._AC_UL320_.jpg\n",
      "https://m.media-amazon.com/images/I/81dbPfnqZvL._AC_UL320_.jpg\n",
      "https://m.media-amazon.com/images/I/61LMIar2LCL._AC_UL320_.jpg\n",
      "https://m.media-amazon.com/images/I/71Nqz871FSL._AC_UL320_.jpg\n",
      "https://m.media-amazon.com/images/I/71YS+or+dyL._AC_UL320_.jpg\n",
      "https://m.media-amazon.com/images/I/71YR8bMX7LL._AC_UL320_.jpg\n",
      "https://m.media-amazon.com/images/I/91ePzrZinUL._AC_UL320_.jpg\n",
      "https://m.media-amazon.com/images/I/716wf6xNEfL._AC_UL320_.jpg\n",
      "https://m.media-amazon.com/images/I/81-GATp6J-L._AC_UL320_.jpg\n",
      "https://m.media-amazon.com/images/I/8135zR3AHpL._AC_UL320_.jpg\n",
      "https://m.media-amazon.com/images/I/81LQgyctAVL._AC_UL320_.jpg\n",
      "https://m.media-amazon.com/images/I/61f195vtBKL._AC_UL320_.jpg\n",
      "https://m.media-amazon.com/images/I/71+G0cuRNvL._AC_UL320_.jpg\n",
      "https://m.media-amazon.com/images/I/71ktmgI0TQL._AC_UL320_.jpg\n",
      "https://m.media-amazon.com/images/I/71OxdjJkEDL._AC_UL320_.jpg\n",
      "https://m.media-amazon.com/images/I/61SwR8Ykb1L._AC_UL320_.jpg\n",
      "https://m.media-amazon.com/images/I/71mf9aWSsBL._AC_UL320_.jpg\n",
      "https://m.media-amazon.com/images/I/81yi8MbMOAL._AC_UL320_.jpg\n",
      "https://m.media-amazon.com/images/I/81XSPD8D76L._AC_UL320_.jpg\n",
      "https://m.media-amazon.com/images/I/81Asz3AwhYL._AC_UL320_.jpg\n",
      "https://m.media-amazon.com/images/I/91wIeMLVDpL._AC_UL320_.jpg\n",
      "https://m.media-amazon.com/images/I/61EBg0JzPLL._AC_UL320_.jpg\n",
      "https://m.media-amazon.com/images/I/81NACQGeE8L._AC_UL320_.jpg\n",
      "https://m.media-amazon.com/images/I/81iP+LpW+1L._AC_UL320_.jpg\n"
     ]
    }
   ],
   "source": [
    "urls=[]\n",
    "for image in images:\n",
    "    source=image.get_attribute('src')\n",
    "    urls.append(source)\n",
    "    print(source)"
   ]
  },
  {
   "cell_type": "code",
   "execution_count": 131,
   "metadata": {},
   "outputs": [
    {
     "data": {
      "text/plain": [
       "49"
      ]
     },
     "execution_count": 131,
     "metadata": {},
     "output_type": "execute_result"
    }
   ],
   "source": [
    "len(urls)"
   ]
  },
  {
   "cell_type": "code",
   "execution_count": 132,
   "metadata": {},
   "outputs": [
    {
     "name": "stdout",
     "output_type": "stream",
     "text": [
      "Downloading 1 of 49 images from page 2\n",
      "Downloading 2 of 49 images from page 2\n",
      "Downloading 3 of 49 images from page 2\n",
      "Downloading 4 of 49 images from page 2\n",
      "Downloading 5 of 49 images from page 2\n",
      "Downloading 6 of 49 images from page 2\n",
      "Downloading 7 of 49 images from page 2\n",
      "Downloading 8 of 49 images from page 2\n",
      "Downloading 9 of 49 images from page 2\n",
      "Downloading 10 of 49 images from page 2\n",
      "Downloading 11 of 49 images from page 2\n",
      "Downloading 12 of 49 images from page 2\n",
      "Downloading 13 of 49 images from page 2\n",
      "Downloading 14 of 49 images from page 2\n",
      "Downloading 15 of 49 images from page 2\n",
      "Downloading 16 of 49 images from page 2\n",
      "Downloading 17 of 49 images from page 2\n",
      "Downloading 18 of 49 images from page 2\n",
      "Downloading 19 of 49 images from page 2\n",
      "Downloading 20 of 49 images from page 2\n",
      "Downloading 21 of 49 images from page 2\n",
      "Downloading 22 of 49 images from page 2\n",
      "Downloading 23 of 49 images from page 2\n",
      "Downloading 24 of 49 images from page 2\n",
      "Downloading 25 of 49 images from page 2\n",
      "Downloading 26 of 49 images from page 2\n",
      "Downloading 27 of 49 images from page 2\n",
      "Downloading 28 of 49 images from page 2\n",
      "Downloading 29 of 49 images from page 2\n",
      "Downloading 30 of 49 images from page 2\n",
      "Downloading 31 of 49 images from page 2\n",
      "Downloading 32 of 49 images from page 2\n",
      "Downloading 33 of 49 images from page 2\n",
      "Downloading 34 of 49 images from page 2\n",
      "Downloading 35 of 49 images from page 2\n",
      "Downloading 36 of 49 images from page 2\n",
      "Downloading 37 of 49 images from page 2\n",
      "Downloading 38 of 49 images from page 2\n",
      "Downloading 39 of 49 images from page 2\n",
      "Downloading 40 of 49 images from page 2\n",
      "Downloading 41 of 49 images from page 2\n",
      "Downloading 42 of 49 images from page 2\n",
      "Downloading 43 of 49 images from page 2\n",
      "Downloading 44 of 49 images from page 2\n",
      "Downloading 45 of 49 images from page 2\n",
      "Downloading 46 of 49 images from page 2\n",
      "Downloading 47 of 49 images from page 2\n",
      "Downloading 48 of 49 images from page 2\n",
      "Downloading 49 of 49 images from page 2\n"
     ]
    }
   ],
   "source": [
    "#Downloading the images\n",
    "page=2\n",
    "for index, link in enumerate(urls):\n",
    "    print('Downloading {0} of {1} images from page 2'.format(index+1,len(urls)))\n",
    "    response=requests.get(link)\n",
    "    with open('Trousers (men)/img_{0}{1}.jpeg'.format(index,page),'wb') as file:\n",
    "        file.write(response.content)"
   ]
  },
  {
   "cell_type": "code",
   "execution_count": 133,
   "metadata": {},
   "outputs": [],
   "source": [
    "next_page=driver.find_element_by_xpath('//li[@class=\"a-last\"]//a').click()\n"
   ]
  },
  {
   "cell_type": "code",
   "execution_count": 134,
   "metadata": {},
   "outputs": [],
   "source": [
    "images = driver.find_elements_by_xpath('//img[@class=\"s-image\"]')"
   ]
  },
  {
   "cell_type": "code",
   "execution_count": 135,
   "metadata": {},
   "outputs": [
    {
     "name": "stdout",
     "output_type": "stream",
     "text": [
      "10\n"
     ]
    }
   ],
   "source": [
    "print(len(images))"
   ]
  },
  {
   "cell_type": "code",
   "execution_count": 136,
   "metadata": {},
   "outputs": [
    {
     "data": {
      "text/plain": [
       "<selenium.webdriver.remote.webelement.WebElement (session=\"d7d697d3aaa958e8971b9a529eb17187\", element=\"123cd3e5-b9c0-4560-8d03-cdabbeef1d08\")>"
      ]
     },
     "execution_count": 136,
     "metadata": {},
     "output_type": "execute_result"
    }
   ],
   "source": [
    "images[0]"
   ]
  },
  {
   "cell_type": "code",
   "execution_count": 137,
   "metadata": {},
   "outputs": [
    {
     "name": "stdout",
     "output_type": "stream",
     "text": [
      "https://m.media-amazon.com/images/I/51Mi3WP+hxL._AC_UL320_.jpg\n",
      "https://m.media-amazon.com/images/I/71kN3wZWjpL._AC_UL320_.jpg\n",
      "https://m.media-amazon.com/images/I/51MMfeL0BiL._AC_UL320_.jpg\n",
      "https://m.media-amazon.com/images/I/81aLEvSqU+L._AC_UL320_.jpg\n",
      "https://m.media-amazon.com/images/I/71YR8bMX7LL._AC_UL320_.jpg\n",
      "https://m.media-amazon.com/images/I/91ePzrZinUL._AC_UL320_.jpg\n",
      "https://m.media-amazon.com/images/I/716wf6xNEfL._AC_UL320_.jpg\n",
      "https://m.media-amazon.com/images/I/81-GATp6J-L._AC_UL320_.jpg\n",
      "https://m.media-amazon.com/images/I/71reL3WW48L._AC_UL320_.jpg\n",
      "https://m.media-amazon.com/images/I/8135zR3AHpL._AC_UL320_.jpg\n"
     ]
    }
   ],
   "source": [
    "urls=[]\n",
    "for image in images:\n",
    "    source=image.get_attribute('src')\n",
    "    urls.append(source)\n",
    "    print(source)"
   ]
  },
  {
   "cell_type": "code",
   "execution_count": 138,
   "metadata": {},
   "outputs": [
    {
     "data": {
      "text/plain": [
       "10"
      ]
     },
     "execution_count": 138,
     "metadata": {},
     "output_type": "execute_result"
    }
   ],
   "source": [
    "len(urls)"
   ]
  },
  {
   "cell_type": "code",
   "execution_count": 139,
   "metadata": {},
   "outputs": [
    {
     "name": "stdout",
     "output_type": "stream",
     "text": [
      "Downloading 1 of 10 images from page 3\n",
      "Downloading 2 of 10 images from page 3\n",
      "Downloading 3 of 10 images from page 3\n",
      "Downloading 4 of 10 images from page 3\n",
      "Downloading 5 of 10 images from page 3\n",
      "Downloading 6 of 10 images from page 3\n",
      "Downloading 7 of 10 images from page 3\n",
      "Downloading 8 of 10 images from page 3\n",
      "Downloading 9 of 10 images from page 3\n",
      "Downloading 10 of 10 images from page 3\n"
     ]
    }
   ],
   "source": [
    "#Downloading the images\n",
    "page=3\n",
    "for index, link in enumerate(urls):\n",
    "    print('Downloading {0} of {1} images from page 3'.format(index+1,len(urls)))\n",
    "    response=requests.get(link)\n",
    "    with open('Trousers (men)/img_{0}{1}.jpeg'.format(index,page),'wb') as file:\n",
    "        file.write(response.content)"
   ]
  },
  {
   "cell_type": "code",
   "execution_count": 143,
   "metadata": {},
   "outputs": [],
   "source": [
    "next_page=driver.find_element_by_xpath('//li[@class=\"a-last\"]//a').click()"
   ]
  },
  {
   "cell_type": "code",
   "execution_count": 144,
   "metadata": {},
   "outputs": [],
   "source": [
    "images = driver.find_elements_by_xpath('//img[@class=\"s-image\"]')"
   ]
  },
  {
   "cell_type": "code",
   "execution_count": 145,
   "metadata": {},
   "outputs": [
    {
     "name": "stdout",
     "output_type": "stream",
     "text": [
      "60\n"
     ]
    }
   ],
   "source": [
    "print(len(images))"
   ]
  },
  {
   "cell_type": "code",
   "execution_count": 146,
   "metadata": {},
   "outputs": [
    {
     "data": {
      "text/plain": [
       "<selenium.webdriver.remote.webelement.WebElement (session=\"d7d697d3aaa958e8971b9a529eb17187\", element=\"029c5750-e618-479c-a390-8fcdd52d3760\")>"
      ]
     },
     "execution_count": 146,
     "metadata": {},
     "output_type": "execute_result"
    }
   ],
   "source": [
    "images[0]"
   ]
  },
  {
   "cell_type": "code",
   "execution_count": 147,
   "metadata": {},
   "outputs": [
    {
     "name": "stdout",
     "output_type": "stream",
     "text": [
      "https://m.media-amazon.com/images/I/5180ufFoKfL._AC_UL320_.jpg\n",
      "https://m.media-amazon.com/images/I/81pT9wcUjFL._AC_UL320_.jpg\n",
      "https://m.media-amazon.com/images/I/61ELAf0ZLcL._AC_UL320_.jpg\n",
      "https://m.media-amazon.com/images/I/61EOzu4TXiL._AC_UL320_.jpg\n",
      "https://m.media-amazon.com/images/I/51JnbMQJXIL._AC_UL320_.jpg\n",
      "https://m.media-amazon.com/images/I/61VyGMlMLrL._AC_UL320_.jpg\n",
      "https://m.media-amazon.com/images/I/71h24oxylpL._AC_UL320_.jpg\n",
      "https://m.media-amazon.com/images/I/71mZ+MdL7QL._AC_UL320_.jpg\n",
      "https://m.media-amazon.com/images/I/51foBwijuPL._AC_UL320_.jpg\n",
      "https://m.media-amazon.com/images/I/91uoIMFX8mL._AC_UL320_.jpg\n",
      "https://m.media-amazon.com/images/I/71Q5lAZ21eL._AC_UL320_.jpg\n",
      "https://m.media-amazon.com/images/I/81tgg89u0aL._AC_UL320_.jpg\n",
      "https://m.media-amazon.com/images/I/71ETy-KG5eL._AC_UL320_.jpg\n",
      "https://m.media-amazon.com/images/I/71YZzV5W7YL._AC_UL320_.jpg\n",
      "https://m.media-amazon.com/images/I/61KY6TXTqBL._AC_UL320_.jpg\n",
      "https://m.media-amazon.com/images/I/71up0EnNS5L._AC_UL320_.jpg\n",
      "https://m.media-amazon.com/images/I/71FGH7318pL._AC_UL320_.jpg\n",
      "https://m.media-amazon.com/images/I/51D55ExsF0L._AC_UL320_.jpg\n",
      "https://m.media-amazon.com/images/I/81x2IadLCPL._AC_UL320_.jpg\n",
      "https://m.media-amazon.com/images/I/71irOKih4CL._AC_UL320_.jpg\n",
      "https://m.media-amazon.com/images/I/71TL5-r7gNL._AC_UL320_.jpg\n",
      "https://m.media-amazon.com/images/I/718GaV1I78L._AC_UL320_.jpg\n",
      "https://m.media-amazon.com/images/I/71x8rLs9PZL._AC_UL320_.jpg\n",
      "https://m.media-amazon.com/images/I/71f0xlIFcaL._AC_UL320_.jpg\n",
      "https://m.media-amazon.com/images/I/81d2mWwxekL._AC_UL320_.jpg\n",
      "https://m.media-amazon.com/images/I/61upY0qczWL._AC_UL320_.jpg\n",
      "https://m.media-amazon.com/images/I/71B9T5bsqIL._AC_UL320_.jpg\n",
      "https://m.media-amazon.com/images/I/711fL8aHQAL._AC_UL320_.jpg\n",
      "https://m.media-amazon.com/images/I/71P3hnuDyGL._AC_UL320_.jpg\n",
      "https://m.media-amazon.com/images/I/81TeEygY2-L._AC_UL320_.jpg\n",
      "https://m.media-amazon.com/images/I/714o0+tXrmL._AC_UL320_.jpg\n",
      "https://m.media-amazon.com/images/I/71yh-YMNpFL._AC_UL320_.jpg\n",
      "https://m.media-amazon.com/images/I/71p-eNcC96L._AC_UL320_.jpg\n",
      "https://m.media-amazon.com/images/I/81xGeW+gW9L._AC_UL320_.jpg\n",
      "https://m.media-amazon.com/images/I/71N5IxTDbpL._AC_UL320_.jpg\n",
      "https://m.media-amazon.com/images/I/81B4umCD+rL._AC_UL320_.jpg\n",
      "https://m.media-amazon.com/images/I/81+kwZQtaBL._AC_UL320_.jpg\n",
      "https://m.media-amazon.com/images/I/61EOzu4TXiL._AC_UL320_.jpg\n",
      "https://m.media-amazon.com/images/I/71teB3pEQ3L._AC_UL320_.jpg\n",
      "https://m.media-amazon.com/images/I/81Q9cvxTloL._AC_UL320_.jpg\n",
      "https://m.media-amazon.com/images/I/71LWNNdB8vL._AC_UL320_.jpg\n",
      "https://m.media-amazon.com/images/I/81fpcc6uLiL._AC_UL320_.jpg\n",
      "https://m.media-amazon.com/images/I/51CF010I7gL._AC_UL320_.jpg\n",
      "https://m.media-amazon.com/images/I/714f8L347FL._AC_UL320_.jpg\n",
      "https://m.media-amazon.com/images/I/71r6E8juENL._AC_UL320_.jpg\n",
      "https://m.media-amazon.com/images/I/71SCEIwfneL._AC_UL320_.jpg\n",
      "https://m.media-amazon.com/images/I/71Bnu2TcnoL._AC_UL320_.jpg\n",
      "https://m.media-amazon.com/images/I/81MRfw86FDL._AC_UL320_.jpg\n",
      "https://m.media-amazon.com/images/I/71oSUR3NiML._AC_UL320_.jpg\n",
      "https://m.media-amazon.com/images/I/711MOGUpdeL._AC_UL320_.jpg\n",
      "https://m.media-amazon.com/images/I/81gMJiT6lTL._AC_UL320_.jpg\n",
      "https://m.media-amazon.com/images/I/61RLgL-I9dL._AC_UL320_.jpg\n",
      "https://m.media-amazon.com/images/I/71UHoQ2wPzL._AC_UL320_.jpg\n",
      "https://m.media-amazon.com/images/I/51McDpE7yOL._AC_UL320_.jpg\n",
      "https://m.media-amazon.com/images/I/71C10-TQ9aL._AC_UL320_.jpg\n",
      "https://m.media-amazon.com/images/I/71bGDIWUAwL._AC_UL320_.jpg\n",
      "https://m.media-amazon.com/images/I/712n2iE4P6L._AC_UL320_.jpg\n",
      "https://m.media-amazon.com/images/I/610r1RXcDbL._AC_UL320_.jpg\n",
      "https://m.media-amazon.com/images/I/61WnnOJHFML._AC_UL320_.jpg\n",
      "https://m.media-amazon.com/images/I/81v6idLUNmL._AC_UL320_.jpg\n"
     ]
    }
   ],
   "source": [
    "urls=[]\n",
    "for image in images:\n",
    "    source=image.get_attribute('src')\n",
    "    urls.append(source)\n",
    "    print(source)"
   ]
  },
  {
   "cell_type": "code",
   "execution_count": 148,
   "metadata": {},
   "outputs": [
    {
     "data": {
      "text/plain": [
       "60"
      ]
     },
     "execution_count": 148,
     "metadata": {},
     "output_type": "execute_result"
    }
   ],
   "source": [
    "len(urls)"
   ]
  },
  {
   "cell_type": "code",
   "execution_count": 149,
   "metadata": {},
   "outputs": [
    {
     "name": "stdout",
     "output_type": "stream",
     "text": [
      "Downloading 1 of 60 images from page 4\n",
      "Downloading 2 of 60 images from page 4\n",
      "Downloading 3 of 60 images from page 4\n",
      "Downloading 4 of 60 images from page 4\n",
      "Downloading 5 of 60 images from page 4\n",
      "Downloading 6 of 60 images from page 4\n",
      "Downloading 7 of 60 images from page 4\n",
      "Downloading 8 of 60 images from page 4\n",
      "Downloading 9 of 60 images from page 4\n",
      "Downloading 10 of 60 images from page 4\n",
      "Downloading 11 of 60 images from page 4\n",
      "Downloading 12 of 60 images from page 4\n",
      "Downloading 13 of 60 images from page 4\n",
      "Downloading 14 of 60 images from page 4\n",
      "Downloading 15 of 60 images from page 4\n",
      "Downloading 16 of 60 images from page 4\n",
      "Downloading 17 of 60 images from page 4\n",
      "Downloading 18 of 60 images from page 4\n",
      "Downloading 19 of 60 images from page 4\n",
      "Downloading 20 of 60 images from page 4\n",
      "Downloading 21 of 60 images from page 4\n",
      "Downloading 22 of 60 images from page 4\n",
      "Downloading 23 of 60 images from page 4\n",
      "Downloading 24 of 60 images from page 4\n",
      "Downloading 25 of 60 images from page 4\n",
      "Downloading 26 of 60 images from page 4\n",
      "Downloading 27 of 60 images from page 4\n",
      "Downloading 28 of 60 images from page 4\n",
      "Downloading 29 of 60 images from page 4\n",
      "Downloading 30 of 60 images from page 4\n",
      "Downloading 31 of 60 images from page 4\n",
      "Downloading 32 of 60 images from page 4\n",
      "Downloading 33 of 60 images from page 4\n",
      "Downloading 34 of 60 images from page 4\n",
      "Downloading 35 of 60 images from page 4\n",
      "Downloading 36 of 60 images from page 4\n",
      "Downloading 37 of 60 images from page 4\n",
      "Downloading 38 of 60 images from page 4\n",
      "Downloading 39 of 60 images from page 4\n",
      "Downloading 40 of 60 images from page 4\n",
      "Downloading 41 of 60 images from page 4\n",
      "Downloading 42 of 60 images from page 4\n",
      "Downloading 43 of 60 images from page 4\n",
      "Downloading 44 of 60 images from page 4\n",
      "Downloading 45 of 60 images from page 4\n",
      "Downloading 46 of 60 images from page 4\n",
      "Downloading 47 of 60 images from page 4\n",
      "Downloading 48 of 60 images from page 4\n",
      "Downloading 49 of 60 images from page 4\n",
      "Downloading 50 of 60 images from page 4\n",
      "Downloading 51 of 60 images from page 4\n",
      "Downloading 52 of 60 images from page 4\n",
      "Downloading 53 of 60 images from page 4\n",
      "Downloading 54 of 60 images from page 4\n",
      "Downloading 55 of 60 images from page 4\n",
      "Downloading 56 of 60 images from page 4\n",
      "Downloading 57 of 60 images from page 4\n",
      "Downloading 58 of 60 images from page 4\n",
      "Downloading 59 of 60 images from page 4\n",
      "Downloading 60 of 60 images from page 4\n"
     ]
    }
   ],
   "source": [
    "#Downloading the images\n",
    "page=4\n",
    "for index, link in enumerate(urls):\n",
    "    print('Downloading {0} of {1} images from page 4'.format(index+1,len(urls)))\n",
    "    response=requests.get(link)\n",
    "    with open('Trousers (men)/img_{0}{1}.jpeg'.format(index,page),'wb') as file:\n",
    "        file.write(response.content)"
   ]
  },
  {
   "cell_type": "markdown",
   "metadata": {},
   "source": [
    "# JEANS"
   ]
  },
  {
   "cell_type": "code",
   "execution_count": 161,
   "metadata": {},
   "outputs": [],
   "source": [
    "my_page= driver.get('https://www.amazon.in/s?k=Jeans+%28men%29&ref=nb_sb_noss_2')"
   ]
  },
  {
   "cell_type": "code",
   "execution_count": 162,
   "metadata": {},
   "outputs": [],
   "source": [
    "def make_directory(dirname):\n",
    "    current_path=os.getcwd()\n",
    "    path=os.path.join(current_path,dirname)\n",
    "    if not os.path.exists(path):\n",
    "        os.makedirs(path)\n",
    "        "
   ]
  },
  {
   "cell_type": "code",
   "execution_count": 163,
   "metadata": {},
   "outputs": [],
   "source": [
    "make_directory('Jeans (men)')"
   ]
  },
  {
   "cell_type": "code",
   "execution_count": 164,
   "metadata": {},
   "outputs": [],
   "source": [
    "images = driver.find_elements_by_xpath('//img[@class=\"s-image\"]')"
   ]
  },
  {
   "cell_type": "code",
   "execution_count": 165,
   "metadata": {},
   "outputs": [
    {
     "name": "stdout",
     "output_type": "stream",
     "text": [
      "65\n"
     ]
    }
   ],
   "source": [
    "print(len(images))"
   ]
  },
  {
   "cell_type": "code",
   "execution_count": 166,
   "metadata": {},
   "outputs": [
    {
     "data": {
      "text/plain": [
       "<selenium.webdriver.remote.webelement.WebElement (session=\"d7d697d3aaa958e8971b9a529eb17187\", element=\"2f75fddc-ca1b-40b3-8394-6c347289d30e\")>"
      ]
     },
     "execution_count": 166,
     "metadata": {},
     "output_type": "execute_result"
    }
   ],
   "source": [
    "images[0]"
   ]
  },
  {
   "cell_type": "code",
   "execution_count": 167,
   "metadata": {},
   "outputs": [
    {
     "name": "stdout",
     "output_type": "stream",
     "text": [
      "https://m.media-amazon.com/images/I/813jGy7UUrL._AC_UL320_.jpg\n",
      "https://m.media-amazon.com/images/I/91Acq8f4cQL._AC_UL320_.jpg\n",
      "https://m.media-amazon.com/images/I/81zqpeiSobL._AC_UL320_.jpg\n",
      "https://m.media-amazon.com/images/I/81YWFZEsJhL._AC_UL320_.jpg\n",
      "https://m.media-amazon.com/images/I/71-hD0niqOL._AC_UL320_.jpg\n",
      "https://m.media-amazon.com/images/I/818v2hyeiFL._AC_UL320_.jpg\n",
      "https://m.media-amazon.com/images/I/81au4FfzaFL._AC_UL320_.jpg\n",
      "https://images-eu.ssl-images-amazon.com/images/S/amazon-avatars-global/c0a4444a-0e13-4da1-93ba-0d143812a426._CR0,0,666,666_SX50_._TTW_.jpg\n",
      "https://m.media-amazon.com/images/I/61Don-d8JfL._AC_UL320_.jpg\n",
      "https://m.media-amazon.com/images/I/51UlwkHPtmL._AC_UL320_.jpg\n",
      "https://m.media-amazon.com/images/I/61Do8wxortL._AC_UL320_.jpg\n",
      "https://m.media-amazon.com/images/I/81+wlwY-1zL._AC_UL320_.jpg\n",
      "https://m.media-amazon.com/images/I/81SSclEYzsL._AC_UL320_.jpg\n",
      "https://m.media-amazon.com/images/I/61kU3FBDYaL._AC_UL320_.jpg\n",
      "https://m.media-amazon.com/images/I/81Wf6EaHo0L._AC_UL320_.jpg\n",
      "https://m.media-amazon.com/images/I/81GktRDyaAL._AC_UL320_.jpg\n",
      "https://m.media-amazon.com/images/I/81vH31o2pQL._AC_UL320_.jpg\n",
      "https://m.media-amazon.com/images/I/91uqPzJrOzL._AC_UL320_.jpg\n",
      "https://m.media-amazon.com/images/I/81D+KVOvp2L._AC_UL320_.jpg\n",
      "https://m.media-amazon.com/images/I/81pqGmmjJ-L._AC_UL320_.jpg\n",
      "https://m.media-amazon.com/images/I/81rHApta2VL._AC_UL320_.jpg\n",
      "https://m.media-amazon.com/images/I/716Ik9vCAoL._AC_UL320_.jpg\n",
      "https://m.media-amazon.com/images/I/81z-Gsi1bOL._AC_UL320_.jpg\n",
      "https://m.media-amazon.com/images/I/91vqYwJHxPL._AC_UL320_.jpg\n",
      "https://m.media-amazon.com/images/I/81qbyr3UXbL._AC_UL320_.jpg\n",
      "https://m.media-amazon.com/images/I/81tinKuDj5L._AC_UL320_.jpg\n",
      "https://m.media-amazon.com/images/I/51jjaDgyn4L._AC_UL320_.jpg\n",
      "https://m.media-amazon.com/images/I/91wFQEix7FL._AC_UL320_.jpg\n",
      "https://m.media-amazon.com/images/I/81YMK25L5CL._AC_UL320_.jpg\n",
      "https://m.media-amazon.com/images/I/91BO5MvIxoL._AC_UL320_.jpg\n",
      "https://m.media-amazon.com/images/I/81PdOyao2vL._AC_UL320_.jpg\n",
      "https://m.media-amazon.com/images/I/81hmm3saw1L._AC_UL320_.jpg\n",
      "https://m.media-amazon.com/images/I/81WI1iN8zJL._AC_UL320_.jpg\n",
      "https://m.media-amazon.com/images/I/61ZGXTSfA3L._AC_UL320_.jpg\n",
      "https://m.media-amazon.com/images/I/81eI5vaKfhL._AC_UL320_.jpg\n",
      "https://m.media-amazon.com/images/I/8131SGKKwAL._AC_UL320_.jpg\n",
      "https://m.media-amazon.com/images/I/81ZfDha1c5L._AC_UL320_.jpg\n",
      "https://m.media-amazon.com/images/I/81qnBPWr9dL._AC_UL320_.jpg\n",
      "https://m.media-amazon.com/images/I/81wbeCHb7oL._AC_UL320_.jpg\n",
      "https://m.media-amazon.com/images/I/814xulZHGPL._AC_UL320_.jpg\n",
      "https://m.media-amazon.com/images/I/81jQb7KuMkL._AC_UL320_.jpg\n",
      "https://m.media-amazon.com/images/I/81rG5uCCwhL._AC_UL320_.jpg\n",
      "https://m.media-amazon.com/images/I/719Vk07WFvL._AC_UL320_.jpg\n",
      "https://m.media-amazon.com/images/I/61nJ6tJX0VL._AC_UL320_.jpg\n",
      "https://m.media-amazon.com/images/I/8145sGvCf0L._AC_UL320_.jpg\n",
      "https://m.media-amazon.com/images/I/81tFXevKUxL._AC_UL320_.jpg\n",
      "https://m.media-amazon.com/images/I/61Don-d8JfL._AC_UL320_.jpg\n",
      "https://m.media-amazon.com/images/I/81gGg9cQ+0L._AC_UL320_.jpg\n",
      "https://m.media-amazon.com/images/I/81JDkTqphKL._AC_UL320_.jpg\n",
      "https://m.media-amazon.com/images/I/51PAjY776nL._AC_UL320_.jpg\n",
      "https://m.media-amazon.com/images/I/81G4si+3gaL._AC_UL320_.jpg\n",
      "https://m.media-amazon.com/images/I/71vnemyYCOL._AC_UL320_.jpg\n",
      "https://m.media-amazon.com/images/I/51UQrWpHM4L._AC_UL320_.jpg\n",
      "https://m.media-amazon.com/images/I/71Hc6flOyyL._AC_UL320_.jpg\n",
      "https://m.media-amazon.com/images/I/71yrEovAM0L._AC_UL320_.jpg\n",
      "https://m.media-amazon.com/images/I/61Ooon-PvbL._AC_UL320_.jpg\n",
      "https://m.media-amazon.com/images/I/71Wh8TCDw-L._AC_UL320_.jpg\n",
      "https://m.media-amazon.com/images/I/51i87QAKlIL._AC_UL320_.jpg\n",
      "https://m.media-amazon.com/images/I/61Kb6yzoCiL._AC_UL320_.jpg\n",
      "https://m.media-amazon.com/images/I/819rgakCvfL._AC_UL320_.jpg\n",
      "https://m.media-amazon.com/images/I/81keMre05BL._AC_UL320_.jpg\n",
      "https://m.media-amazon.com/images/I/31WTA3goafL._AC_UL320_.jpg\n",
      "https://m.media-amazon.com/images/I/81FDxTHlAUL._AC_UL320_.jpg\n",
      "https://m.media-amazon.com/images/I/61SSwM6tevL._AC_UL320_.jpg\n",
      "https://m.media-amazon.com/images/I/71c0iVCk69L._AC_UL320_.jpg\n"
     ]
    }
   ],
   "source": [
    "urls=[]\n",
    "for image in images:\n",
    "    source=image.get_attribute('src')\n",
    "    urls.append(source)\n",
    "    print(source)"
   ]
  },
  {
   "cell_type": "code",
   "execution_count": 168,
   "metadata": {},
   "outputs": [
    {
     "data": {
      "text/plain": [
       "65"
      ]
     },
     "execution_count": 168,
     "metadata": {},
     "output_type": "execute_result"
    }
   ],
   "source": [
    "len(urls)"
   ]
  },
  {
   "cell_type": "code",
   "execution_count": 169,
   "metadata": {},
   "outputs": [
    {
     "name": "stdout",
     "output_type": "stream",
     "text": [
      "Downloading 1 of 65 images from page 1\n",
      "Downloading 2 of 65 images from page 1\n",
      "Downloading 3 of 65 images from page 1\n",
      "Downloading 4 of 65 images from page 1\n",
      "Downloading 5 of 65 images from page 1\n",
      "Downloading 6 of 65 images from page 1\n",
      "Downloading 7 of 65 images from page 1\n",
      "Downloading 8 of 65 images from page 1\n",
      "Downloading 9 of 65 images from page 1\n",
      "Downloading 10 of 65 images from page 1\n",
      "Downloading 11 of 65 images from page 1\n",
      "Downloading 12 of 65 images from page 1\n",
      "Downloading 13 of 65 images from page 1\n",
      "Downloading 14 of 65 images from page 1\n",
      "Downloading 15 of 65 images from page 1\n",
      "Downloading 16 of 65 images from page 1\n",
      "Downloading 17 of 65 images from page 1\n",
      "Downloading 18 of 65 images from page 1\n",
      "Downloading 19 of 65 images from page 1\n",
      "Downloading 20 of 65 images from page 1\n",
      "Downloading 21 of 65 images from page 1\n",
      "Downloading 22 of 65 images from page 1\n",
      "Downloading 23 of 65 images from page 1\n",
      "Downloading 24 of 65 images from page 1\n",
      "Downloading 25 of 65 images from page 1\n",
      "Downloading 26 of 65 images from page 1\n",
      "Downloading 27 of 65 images from page 1\n",
      "Downloading 28 of 65 images from page 1\n",
      "Downloading 29 of 65 images from page 1\n",
      "Downloading 30 of 65 images from page 1\n",
      "Downloading 31 of 65 images from page 1\n",
      "Downloading 32 of 65 images from page 1\n",
      "Downloading 33 of 65 images from page 1\n",
      "Downloading 34 of 65 images from page 1\n",
      "Downloading 35 of 65 images from page 1\n",
      "Downloading 36 of 65 images from page 1\n",
      "Downloading 37 of 65 images from page 1\n",
      "Downloading 38 of 65 images from page 1\n",
      "Downloading 39 of 65 images from page 1\n",
      "Downloading 40 of 65 images from page 1\n",
      "Downloading 41 of 65 images from page 1\n",
      "Downloading 42 of 65 images from page 1\n",
      "Downloading 43 of 65 images from page 1\n",
      "Downloading 44 of 65 images from page 1\n",
      "Downloading 45 of 65 images from page 1\n",
      "Downloading 46 of 65 images from page 1\n",
      "Downloading 47 of 65 images from page 1\n",
      "Downloading 48 of 65 images from page 1\n",
      "Downloading 49 of 65 images from page 1\n",
      "Downloading 50 of 65 images from page 1\n",
      "Downloading 51 of 65 images from page 1\n",
      "Downloading 52 of 65 images from page 1\n",
      "Downloading 53 of 65 images from page 1\n",
      "Downloading 54 of 65 images from page 1\n",
      "Downloading 55 of 65 images from page 1\n",
      "Downloading 56 of 65 images from page 1\n",
      "Downloading 57 of 65 images from page 1\n",
      "Downloading 58 of 65 images from page 1\n",
      "Downloading 59 of 65 images from page 1\n",
      "Downloading 60 of 65 images from page 1\n",
      "Downloading 61 of 65 images from page 1\n",
      "Downloading 62 of 65 images from page 1\n",
      "Downloading 63 of 65 images from page 1\n",
      "Downloading 64 of 65 images from page 1\n",
      "Downloading 65 of 65 images from page 1\n"
     ]
    }
   ],
   "source": [
    "page=1\n",
    "for index, link in enumerate(urls):\n",
    "    print('Downloading {0} of {1} images from page 1'.format(index+1,len(urls)))\n",
    "    response=requests.get(link)\n",
    "    with open('Jeans (men)/img_{0}{1}.jpeg'.format(index,page),'wb') as file:\n",
    "        file.write(response.content)"
   ]
  },
  {
   "cell_type": "code",
   "execution_count": 170,
   "metadata": {},
   "outputs": [],
   "source": [
    "next_page=driver.find_element_by_xpath('//li[@class=\"a-last\"]//a').click()"
   ]
  },
  {
   "cell_type": "code",
   "execution_count": 171,
   "metadata": {},
   "outputs": [],
   "source": [
    "# Following the same steps from step 3 onwards.\n",
    "\n",
    "images = driver.find_elements_by_xpath('//img[@class=\"s-image\"]')"
   ]
  },
  {
   "cell_type": "code",
   "execution_count": 172,
   "metadata": {},
   "outputs": [
    {
     "name": "stdout",
     "output_type": "stream",
     "text": [
      "60\n"
     ]
    }
   ],
   "source": [
    "print(len(images))"
   ]
  },
  {
   "cell_type": "code",
   "execution_count": 173,
   "metadata": {},
   "outputs": [
    {
     "data": {
      "text/plain": [
       "<selenium.webdriver.remote.webelement.WebElement (session=\"d7d697d3aaa958e8971b9a529eb17187\", element=\"f5a36482-ee8d-4a05-80ec-96151584917f\")>"
      ]
     },
     "execution_count": 173,
     "metadata": {},
     "output_type": "execute_result"
    }
   ],
   "source": [
    "images[0]"
   ]
  },
  {
   "cell_type": "code",
   "execution_count": 174,
   "metadata": {},
   "outputs": [
    {
     "name": "stdout",
     "output_type": "stream",
     "text": [
      "https://m.media-amazon.com/images/I/815qq9KA0NL._AC_UL320_.jpg\n",
      "https://m.media-amazon.com/images/I/51PAjY776nL._AC_UL320_.jpg\n",
      "https://m.media-amazon.com/images/I/719TnVRVRGL._AC_UL320_.jpg\n",
      "https://m.media-amazon.com/images/I/71KlSNIwVvL._AC_UL320_.jpg\n",
      "https://m.media-amazon.com/images/I/91rFfkC-JcL._AC_UL320_.jpg\n",
      "https://m.media-amazon.com/images/I/71j2MP7jlWL._AC_UL320_.jpg\n",
      "https://m.media-amazon.com/images/I/611hFiiUv4L._AC_UL320_.jpg\n",
      "https://m.media-amazon.com/images/I/81zhY6kFmhL._AC_UL320_.jpg\n",
      "https://m.media-amazon.com/images/I/81QOFG46pKL._AC_UL320_.jpg\n",
      "https://m.media-amazon.com/images/I/81Xenq2XPwL._AC_UL320_.jpg\n",
      "https://m.media-amazon.com/images/I/81EGkLRifbL._AC_UL320_.jpg\n",
      "https://m.media-amazon.com/images/I/61HBtXKvYOL._AC_UL320_.jpg\n",
      "https://m.media-amazon.com/images/I/71m0W58-zQL._AC_UL320_.jpg\n",
      "https://m.media-amazon.com/images/I/713fib4-HXL._AC_UL320_.jpg\n",
      "https://m.media-amazon.com/images/I/81OVDwye1YL._AC_UL320_.jpg\n",
      "https://m.media-amazon.com/images/I/7122YGtofXL._AC_UL320_.jpg\n",
      "https://m.media-amazon.com/images/I/81T3C0LuWoL._AC_UL320_.jpg\n",
      "https://m.media-amazon.com/images/I/81JuGx5KurL._AC_UL320_.jpg\n",
      "https://m.media-amazon.com/images/I/81XkDJxFp0L._AC_UL320_.jpg\n",
      "https://m.media-amazon.com/images/I/81V9Pk4rGOL._AC_UL320_.jpg\n",
      "https://m.media-amazon.com/images/I/81bhPHGoCZL._AC_UL320_.jpg\n",
      "https://m.media-amazon.com/images/I/81JNRdMLNyL._AC_UL320_.jpg\n",
      "https://m.media-amazon.com/images/I/81350YoeV5L._AC_UL320_.jpg\n",
      "https://m.media-amazon.com/images/I/61YAWZI8AdL._AC_UL320_.jpg\n",
      "https://m.media-amazon.com/images/I/61ctY7YIUhL._AC_UL320_.jpg\n",
      "https://m.media-amazon.com/images/I/71ff171MHlL._AC_UL320_.jpg\n",
      "https://m.media-amazon.com/images/I/91pGG2k3CuL._AC_UL320_.jpg\n",
      "https://m.media-amazon.com/images/I/51Gvco2ivdL._AC_UL320_.jpg\n",
      "https://m.media-amazon.com/images/I/61cNjjtuFML._AC_UL320_.jpg\n",
      "https://m.media-amazon.com/images/I/81gnJ1kUbFL._AC_UL320_.jpg\n",
      "https://m.media-amazon.com/images/I/810blIO12PL._AC_UL320_.jpg\n",
      "https://m.media-amazon.com/images/I/51UlwkHPtmL._AC_UL320_.jpg\n",
      "https://m.media-amazon.com/images/I/71SQ2QKH0lL._AC_UL320_.jpg\n",
      "https://m.media-amazon.com/images/I/814EPqGb7wL._AC_UL320_.jpg\n",
      "https://m.media-amazon.com/images/I/81SWkLqSDvL._AC_UL320_.jpg\n",
      "https://m.media-amazon.com/images/I/41ipyFTyb-L._AC_UL320_.jpg\n",
      "https://m.media-amazon.com/images/I/81+wlwY-1zL._AC_UL320_.jpg\n",
      "https://m.media-amazon.com/images/I/81m75ojT-1L._AC_UL320_.jpg\n",
      "https://m.media-amazon.com/images/I/71m8OTdQlIL._AC_UL320_.jpg\n",
      "https://m.media-amazon.com/images/I/61S5a0LL0sL._AC_UL320_.jpg\n",
      "https://m.media-amazon.com/images/I/8145sGvCf0L._AC_UL320_.jpg\n",
      "https://m.media-amazon.com/images/I/91+tVyTjomL._AC_UL320_.jpg\n",
      "https://m.media-amazon.com/images/I/81adGypsVpL._AC_UL320_.jpg\n",
      "https://m.media-amazon.com/images/I/61UZtv8GRtL._AC_UL320_.jpg\n",
      "https://m.media-amazon.com/images/I/811BjDiwcDL._AC_UL320_.jpg\n",
      "https://m.media-amazon.com/images/I/81dEOZ0PEVL._AC_UL320_.jpg\n",
      "https://m.media-amazon.com/images/I/81wq4UHtW7L._AC_UL320_.jpg\n",
      "https://m.media-amazon.com/images/I/51w-sugzMKL._AC_UL320_.jpg\n",
      "https://m.media-amazon.com/images/I/81HzmXLPa6L._AC_UL320_.jpg\n",
      "https://m.media-amazon.com/images/I/81R1sbiIMDL._AC_UL320_.jpg\n",
      "https://m.media-amazon.com/images/I/41LAnyj+kaL._AC_UL320_.jpg\n",
      "https://m.media-amazon.com/images/I/81RL-jkYcQL._AC_UL320_.jpg\n",
      "https://m.media-amazon.com/images/I/81+tbSK12dL._AC_UL320_.jpg\n",
      "https://m.media-amazon.com/images/I/81dZ97Jc2GL._AC_UL320_.jpg\n",
      "https://m.media-amazon.com/images/I/81cxQWY5-vL._AC_UL320_.jpg\n",
      "https://m.media-amazon.com/images/I/61TwfPRLhrL._AC_UL320_.jpg\n",
      "https://m.media-amazon.com/images/I/91Oec9KCTUL._AC_UL320_.jpg\n",
      "https://m.media-amazon.com/images/I/61Tb-wMh6kL._AC_UL320_.jpg\n",
      "https://m.media-amazon.com/images/I/81ZOCPyGm3L._AC_UL320_.jpg\n",
      "https://m.media-amazon.com/images/I/71RNH6nsyLL._AC_UL320_.jpg\n"
     ]
    }
   ],
   "source": [
    "urls=[]\n",
    "for image in images:\n",
    "    source=image.get_attribute('src')\n",
    "    urls.append(source)\n",
    "    print(source)"
   ]
  },
  {
   "cell_type": "code",
   "execution_count": 175,
   "metadata": {},
   "outputs": [
    {
     "name": "stdout",
     "output_type": "stream",
     "text": [
      "Downloading 1 of 60 images from page 2\n",
      "Downloading 2 of 60 images from page 2\n",
      "Downloading 3 of 60 images from page 2\n",
      "Downloading 4 of 60 images from page 2\n",
      "Downloading 5 of 60 images from page 2\n",
      "Downloading 6 of 60 images from page 2\n",
      "Downloading 7 of 60 images from page 2\n",
      "Downloading 8 of 60 images from page 2\n",
      "Downloading 9 of 60 images from page 2\n",
      "Downloading 10 of 60 images from page 2\n",
      "Downloading 11 of 60 images from page 2\n",
      "Downloading 12 of 60 images from page 2\n",
      "Downloading 13 of 60 images from page 2\n",
      "Downloading 14 of 60 images from page 2\n",
      "Downloading 15 of 60 images from page 2\n",
      "Downloading 16 of 60 images from page 2\n",
      "Downloading 17 of 60 images from page 2\n",
      "Downloading 18 of 60 images from page 2\n",
      "Downloading 19 of 60 images from page 2\n",
      "Downloading 20 of 60 images from page 2\n",
      "Downloading 21 of 60 images from page 2\n",
      "Downloading 22 of 60 images from page 2\n",
      "Downloading 23 of 60 images from page 2\n",
      "Downloading 24 of 60 images from page 2\n",
      "Downloading 25 of 60 images from page 2\n",
      "Downloading 26 of 60 images from page 2\n",
      "Downloading 27 of 60 images from page 2\n",
      "Downloading 28 of 60 images from page 2\n",
      "Downloading 29 of 60 images from page 2\n",
      "Downloading 30 of 60 images from page 2\n",
      "Downloading 31 of 60 images from page 2\n",
      "Downloading 32 of 60 images from page 2\n",
      "Downloading 33 of 60 images from page 2\n",
      "Downloading 34 of 60 images from page 2\n",
      "Downloading 35 of 60 images from page 2\n",
      "Downloading 36 of 60 images from page 2\n",
      "Downloading 37 of 60 images from page 2\n",
      "Downloading 38 of 60 images from page 2\n",
      "Downloading 39 of 60 images from page 2\n",
      "Downloading 40 of 60 images from page 2\n",
      "Downloading 41 of 60 images from page 2\n",
      "Downloading 42 of 60 images from page 2\n",
      "Downloading 43 of 60 images from page 2\n",
      "Downloading 44 of 60 images from page 2\n",
      "Downloading 45 of 60 images from page 2\n",
      "Downloading 46 of 60 images from page 2\n",
      "Downloading 47 of 60 images from page 2\n",
      "Downloading 48 of 60 images from page 2\n",
      "Downloading 49 of 60 images from page 2\n",
      "Downloading 50 of 60 images from page 2\n",
      "Downloading 51 of 60 images from page 2\n",
      "Downloading 52 of 60 images from page 2\n",
      "Downloading 53 of 60 images from page 2\n",
      "Downloading 54 of 60 images from page 2\n",
      "Downloading 55 of 60 images from page 2\n",
      "Downloading 56 of 60 images from page 2\n",
      "Downloading 57 of 60 images from page 2\n",
      "Downloading 58 of 60 images from page 2\n",
      "Downloading 59 of 60 images from page 2\n",
      "Downloading 60 of 60 images from page 2\n"
     ]
    }
   ],
   "source": [
    "page=2\n",
    "for index, link in enumerate(urls):\n",
    "    print('Downloading {0} of {1} images from page 2'.format(index+1,len(urls)))\n",
    "    response=requests.get(link)\n",
    "    with open('Jeans (men)/img_{0}{1}.jpeg'.format(index,page),'wb') as file:\n",
    "        file.write(response.content)"
   ]
  },
  {
   "cell_type": "code",
   "execution_count": 176,
   "metadata": {},
   "outputs": [],
   "source": [
    "next_page=driver.find_element_by_xpath('//li[@class=\"a-last\"]//a').click()"
   ]
  },
  {
   "cell_type": "code",
   "execution_count": 177,
   "metadata": {},
   "outputs": [],
   "source": [
    "# Following the same steps from step 3 onwards.\n",
    "\n",
    "images = driver.find_elements_by_xpath('//img[@class=\"s-image\"]')"
   ]
  },
  {
   "cell_type": "code",
   "execution_count": 178,
   "metadata": {},
   "outputs": [
    {
     "name": "stdout",
     "output_type": "stream",
     "text": [
      "60\n"
     ]
    }
   ],
   "source": [
    "print(len(images))"
   ]
  },
  {
   "cell_type": "code",
   "execution_count": 179,
   "metadata": {},
   "outputs": [
    {
     "data": {
      "text/plain": [
       "<selenium.webdriver.remote.webelement.WebElement (session=\"d7d697d3aaa958e8971b9a529eb17187\", element=\"09e861b7-c1fe-4456-8af9-b1de166d7936\")>"
      ]
     },
     "execution_count": 179,
     "metadata": {},
     "output_type": "execute_result"
    }
   ],
   "source": [
    "images[0]"
   ]
  },
  {
   "cell_type": "code",
   "execution_count": 180,
   "metadata": {},
   "outputs": [
    {
     "name": "stdout",
     "output_type": "stream",
     "text": [
      "https://m.media-amazon.com/images/I/71KlSNIwVvL._AC_UL320_.jpg\n",
      "https://m.media-amazon.com/images/I/71pHBgvYSPL._AC_UL320_.jpg\n",
      "https://m.media-amazon.com/images/I/81tinKuDj5L._AC_UL320_.jpg\n",
      "https://m.media-amazon.com/images/I/71uvwlfzgTL._AC_UL320_.jpg\n",
      "https://m.media-amazon.com/images/I/91+tVyTjomL._AC_UL320_.jpg\n",
      "https://m.media-amazon.com/images/I/91-Mp6CiJuL._AC_UL320_.jpg\n",
      "https://m.media-amazon.com/images/I/81GbLCuykyL._AC_UL320_.jpg\n",
      "https://m.media-amazon.com/images/I/91dFc+u6TwL._AC_UL320_.jpg\n",
      "https://m.media-amazon.com/images/I/81adGypsVpL._AC_UL320_.jpg\n",
      "https://m.media-amazon.com/images/I/61UZtv8GRtL._AC_UL320_.jpg\n",
      "https://m.media-amazon.com/images/I/81nAtmDoZ5L._AC_UL320_.jpg\n",
      "https://m.media-amazon.com/images/I/81R1sbiIMDL._AC_UL320_.jpg\n",
      "https://m.media-amazon.com/images/I/81RL-jkYcQL._AC_UL320_.jpg\n",
      "https://m.media-amazon.com/images/I/81rcwd8YYNL._AC_UL320_.jpg\n",
      "https://m.media-amazon.com/images/I/81+tbSK12dL._AC_UL320_.jpg\n",
      "https://m.media-amazon.com/images/I/81cxQWY5-vL._AC_UL320_.jpg\n",
      "https://m.media-amazon.com/images/I/91hX3-sC6vL._AC_UL320_.jpg\n",
      "https://m.media-amazon.com/images/I/61TwfPRLhrL._AC_UL320_.jpg\n",
      "https://m.media-amazon.com/images/I/61Zp7OdBeDL._AC_UL320_.jpg\n",
      "https://m.media-amazon.com/images/I/61bgI-mrUUL._AC_UL320_.jpg\n",
      "https://m.media-amazon.com/images/I/71HbGqlA8kL._AC_UL320_.jpg\n",
      "https://m.media-amazon.com/images/I/718nOkLNKAL._AC_UL320_.jpg\n",
      "https://m.media-amazon.com/images/I/81c-PORh5UL._AC_UL320_.jpg\n",
      "https://m.media-amazon.com/images/I/81YMK25L5CL._AC_UL320_.jpg\n",
      "https://m.media-amazon.com/images/I/61aGmtzhdhL._AC_UL320_.jpg\n",
      "https://m.media-amazon.com/images/I/713Hsryga4L._AC_UL320_.jpg\n",
      "https://m.media-amazon.com/images/I/81emkePMduL._AC_UL320_.jpg\n",
      "https://m.media-amazon.com/images/I/616xchp1ECL._AC_UL320_.jpg\n",
      "https://m.media-amazon.com/images/I/81kdTpjuacL._AC_UL320_.jpg\n",
      "https://m.media-amazon.com/images/I/814EPqGb7wL._AC_UL320_.jpg\n",
      "https://m.media-amazon.com/images/I/81-63OmQSwL._AC_UL320_.jpg\n",
      "https://m.media-amazon.com/images/I/91sDGveQfQL._AC_UL320_.jpg\n",
      "https://m.media-amazon.com/images/I/81DPrn4tRNL._AC_UL320_.jpg\n",
      "https://m.media-amazon.com/images/I/61yM5Iy9nvL._AC_UL320_.jpg\n",
      "https://m.media-amazon.com/images/I/61vbvuAOGXL._AC_UL320_.jpg\n",
      "https://m.media-amazon.com/images/I/81dEOZ0PEVL._AC_UL320_.jpg\n",
      "https://m.media-amazon.com/images/I/81vM5fotdGL._AC_UL320_.jpg\n",
      "https://m.media-amazon.com/images/I/813oybXHRGL._AC_UL320_.jpg\n",
      "https://m.media-amazon.com/images/I/81BJeYJOwlL._AC_UL320_.jpg\n",
      "https://m.media-amazon.com/images/I/61mfqUJMlRL._AC_UL320_.jpg\n",
      "https://m.media-amazon.com/images/I/719Kj4n2mAL._AC_UL320_.jpg\n",
      "https://m.media-amazon.com/images/I/61hECisRkKL._AC_UL320_.jpg\n",
      "https://m.media-amazon.com/images/I/61dL-tqEQaL._AC_UL320_.jpg\n",
      "https://m.media-amazon.com/images/I/81Nypn1qenL._AC_UL320_.jpg\n",
      "https://m.media-amazon.com/images/I/81ZVm7gJ8PL._AC_UL320_.jpg\n",
      "https://m.media-amazon.com/images/I/91e10WouDlL._AC_UL320_.jpg\n",
      "https://m.media-amazon.com/images/I/81GFry-xxBL._AC_UL320_.jpg\n",
      "https://m.media-amazon.com/images/I/815BT-Fqd1L._AC_UL320_.jpg\n",
      "https://m.media-amazon.com/images/I/617L399rTqL._AC_UL320_.jpg\n",
      "https://m.media-amazon.com/images/I/81OVDwye1YL._AC_UL320_.jpg\n",
      "https://m.media-amazon.com/images/I/81QcbuXUuXL._AC_UL320_.jpg\n",
      "https://m.media-amazon.com/images/I/81mdEzlKj4L._AC_UL320_.jpg\n",
      "https://m.media-amazon.com/images/I/81-vyWsO2fL._AC_UL320_.jpg\n",
      "https://m.media-amazon.com/images/I/81wAqvZ4HWL._AC_UL320_.jpg\n",
      "https://m.media-amazon.com/images/I/71wdCI5n4VL._AC_UL320_.jpg\n",
      "https://m.media-amazon.com/images/I/91mXH+SEo7L._AC_UL320_.jpg\n",
      "https://m.media-amazon.com/images/I/61mltP+2+HL._AC_UL320_.jpg\n",
      "https://m.media-amazon.com/images/I/711OnwQ8xFL._AC_UL320_.jpg\n",
      "https://m.media-amazon.com/images/I/41d+HFi1coL._AC_UL320_.jpg\n",
      "https://m.media-amazon.com/images/I/81A082ys57L._AC_UL320_.jpg\n"
     ]
    }
   ],
   "source": [
    "urls=[]\n",
    "for image in images:\n",
    "    source=image.get_attribute('src')\n",
    "    urls.append(source)\n",
    "    print(source)"
   ]
  },
  {
   "cell_type": "code",
   "execution_count": 181,
   "metadata": {},
   "outputs": [
    {
     "name": "stdout",
     "output_type": "stream",
     "text": [
      "Downloading 1 of 60 images from page 3\n",
      "Downloading 2 of 60 images from page 3\n",
      "Downloading 3 of 60 images from page 3\n",
      "Downloading 4 of 60 images from page 3\n",
      "Downloading 5 of 60 images from page 3\n",
      "Downloading 6 of 60 images from page 3\n",
      "Downloading 7 of 60 images from page 3\n",
      "Downloading 8 of 60 images from page 3\n",
      "Downloading 9 of 60 images from page 3\n",
      "Downloading 10 of 60 images from page 3\n",
      "Downloading 11 of 60 images from page 3\n",
      "Downloading 12 of 60 images from page 3\n",
      "Downloading 13 of 60 images from page 3\n",
      "Downloading 14 of 60 images from page 3\n",
      "Downloading 15 of 60 images from page 3\n",
      "Downloading 16 of 60 images from page 3\n",
      "Downloading 17 of 60 images from page 3\n",
      "Downloading 18 of 60 images from page 3\n",
      "Downloading 19 of 60 images from page 3\n",
      "Downloading 20 of 60 images from page 3\n",
      "Downloading 21 of 60 images from page 3\n",
      "Downloading 22 of 60 images from page 3\n",
      "Downloading 23 of 60 images from page 3\n",
      "Downloading 24 of 60 images from page 3\n",
      "Downloading 25 of 60 images from page 3\n",
      "Downloading 26 of 60 images from page 3\n",
      "Downloading 27 of 60 images from page 3\n",
      "Downloading 28 of 60 images from page 3\n",
      "Downloading 29 of 60 images from page 3\n",
      "Downloading 30 of 60 images from page 3\n",
      "Downloading 31 of 60 images from page 3\n",
      "Downloading 32 of 60 images from page 3\n",
      "Downloading 33 of 60 images from page 3\n",
      "Downloading 34 of 60 images from page 3\n",
      "Downloading 35 of 60 images from page 3\n",
      "Downloading 36 of 60 images from page 3\n",
      "Downloading 37 of 60 images from page 3\n",
      "Downloading 38 of 60 images from page 3\n",
      "Downloading 39 of 60 images from page 3\n",
      "Downloading 40 of 60 images from page 3\n",
      "Downloading 41 of 60 images from page 3\n",
      "Downloading 42 of 60 images from page 3\n",
      "Downloading 43 of 60 images from page 3\n",
      "Downloading 44 of 60 images from page 3\n",
      "Downloading 45 of 60 images from page 3\n",
      "Downloading 46 of 60 images from page 3\n",
      "Downloading 47 of 60 images from page 3\n",
      "Downloading 48 of 60 images from page 3\n",
      "Downloading 49 of 60 images from page 3\n",
      "Downloading 50 of 60 images from page 3\n",
      "Downloading 51 of 60 images from page 3\n",
      "Downloading 52 of 60 images from page 3\n",
      "Downloading 53 of 60 images from page 3\n",
      "Downloading 54 of 60 images from page 3\n",
      "Downloading 55 of 60 images from page 3\n",
      "Downloading 56 of 60 images from page 3\n",
      "Downloading 57 of 60 images from page 3\n",
      "Downloading 58 of 60 images from page 3\n",
      "Downloading 59 of 60 images from page 3\n",
      "Downloading 60 of 60 images from page 3\n"
     ]
    }
   ],
   "source": [
    "page=3\n",
    "for index, link in enumerate(urls):\n",
    "    print('Downloading {0} of {1} images from page 3'.format(index+1,len(urls)))\n",
    "    response=requests.get(link)\n",
    "    with open('Jeans (men)/img_{0}{1}.jpeg'.format(index,page),'wb') as file:\n",
    "        file.write(response.content)"
   ]
  },
  {
   "cell_type": "code",
   "execution_count": 182,
   "metadata": {},
   "outputs": [],
   "source": [
    "next_page=driver.find_element_by_xpath('//li[@class=\"a-last\"]//a').click()"
   ]
  },
  {
   "cell_type": "code",
   "execution_count": 183,
   "metadata": {},
   "outputs": [],
   "source": [
    "# Following the same steps from step 3 onwards.\n",
    "\n",
    "images = driver.find_elements_by_xpath('//img[@class=\"s-image\"]')"
   ]
  },
  {
   "cell_type": "code",
   "execution_count": 184,
   "metadata": {},
   "outputs": [
    {
     "name": "stdout",
     "output_type": "stream",
     "text": [
      "21\n"
     ]
    }
   ],
   "source": [
    "print(len(images))"
   ]
  },
  {
   "cell_type": "code",
   "execution_count": 185,
   "metadata": {},
   "outputs": [
    {
     "data": {
      "text/plain": [
       "<selenium.webdriver.remote.webelement.WebElement (session=\"d7d697d3aaa958e8971b9a529eb17187\", element=\"eee0e297-a42f-4baa-b8a1-1655da3a01df\")>"
      ]
     },
     "execution_count": 185,
     "metadata": {},
     "output_type": "execute_result"
    }
   ],
   "source": [
    "images[0]"
   ]
  },
  {
   "cell_type": "code",
   "execution_count": 186,
   "metadata": {},
   "outputs": [
    {
     "name": "stdout",
     "output_type": "stream",
     "text": [
      "https://m.media-amazon.com/images/I/61oav6m1AqL._AC_UL320_.jpg\n",
      "https://m.media-amazon.com/images/I/81tinKuDj5L._AC_UL320_.jpg\n",
      "https://m.media-amazon.com/images/I/81OdoevJz9L._AC_UL320_.jpg\n",
      "https://m.media-amazon.com/images/I/71LUMOf2sKL._AC_UL320_.jpg\n",
      "https://m.media-amazon.com/images/I/81ubhsO1EYL._AC_UL320_.jpg\n",
      "https://m.media-amazon.com/images/I/81R1sbiIMDL._AC_UL320_.jpg\n",
      "https://m.media-amazon.com/images/I/81umzMV61tL._AC_UL320_.jpg\n",
      "https://m.media-amazon.com/images/I/71U39SGnWSL._AC_UL320_.jpg\n",
      "https://m.media-amazon.com/images/I/81RL-jkYcQL._AC_UL320_.jpg\n",
      "https://m.media-amazon.com/images/I/81+tbSK12dL._AC_UL320_.jpg\n",
      "https://m.media-amazon.com/images/I/81dZ97Jc2GL._AC_UL320_.jpg\n",
      "https://m.media-amazon.com/images/I/81cxQWY5-vL._AC_UL320_.jpg\n",
      "https://m.media-amazon.com/images/I/61TwfPRLhrL._AC_UL320_.jpg\n",
      "https://m.media-amazon.com/images/I/61Zp7OdBeDL._AC_UL320_.jpg\n",
      "https://m.media-amazon.com/images/I/81QnWUOIciL._AC_UL320_.jpg\n",
      "https://m.media-amazon.com/images/I/61bgI-mrUUL._AC_UL320_.jpg\n",
      "https://m.media-amazon.com/images/I/61aGmtzhdhL._AC_UL320_.jpg\n",
      "https://m.media-amazon.com/images/I/713Hsryga4L._AC_UL320_.jpg\n",
      "https://m.media-amazon.com/images/I/81emkePMduL._AC_UL320_.jpg\n",
      "https://m.media-amazon.com/images/I/81mQGMuQFwL._AC_UL320_.jpg\n",
      "https://m.media-amazon.com/images/I/81PPmFokY7L._AC_UL320_.jpg\n"
     ]
    }
   ],
   "source": [
    "urls=[]\n",
    "for image in images:\n",
    "    source=image.get_attribute('src')\n",
    "    urls.append(source)\n",
    "    print(source)"
   ]
  },
  {
   "cell_type": "code",
   "execution_count": 187,
   "metadata": {},
   "outputs": [
    {
     "name": "stdout",
     "output_type": "stream",
     "text": [
      "Downloading 1 of 21 images from page 4\n",
      "Downloading 2 of 21 images from page 4\n",
      "Downloading 3 of 21 images from page 4\n",
      "Downloading 4 of 21 images from page 4\n",
      "Downloading 5 of 21 images from page 4\n",
      "Downloading 6 of 21 images from page 4\n",
      "Downloading 7 of 21 images from page 4\n",
      "Downloading 8 of 21 images from page 4\n",
      "Downloading 9 of 21 images from page 4\n",
      "Downloading 10 of 21 images from page 4\n",
      "Downloading 11 of 21 images from page 4\n",
      "Downloading 12 of 21 images from page 4\n",
      "Downloading 13 of 21 images from page 4\n",
      "Downloading 14 of 21 images from page 4\n",
      "Downloading 15 of 21 images from page 4\n",
      "Downloading 16 of 21 images from page 4\n",
      "Downloading 17 of 21 images from page 4\n",
      "Downloading 18 of 21 images from page 4\n",
      "Downloading 19 of 21 images from page 4\n",
      "Downloading 20 of 21 images from page 4\n",
      "Downloading 21 of 21 images from page 4\n"
     ]
    }
   ],
   "source": [
    "page=4\n",
    "for index, link in enumerate(urls):\n",
    "    print('Downloading {0} of {1} images from page 4'.format(index+1,len(urls)))\n",
    "    response=requests.get(link)\n",
    "    with open('Jeans (men)/img_{0}{1}.jpeg'.format(index,page),'wb') as file:\n",
    "        file.write(response.content)"
   ]
  },
  {
   "cell_type": "code",
   "execution_count": 124,
   "metadata": {},
   "outputs": [],
   "source": [
    "next_page=driver.find_element_by_xpath('//li[@class=\"a-last\"]//a').click()"
   ]
  },
  {
   "cell_type": "code",
   "execution_count": 188,
   "metadata": {},
   "outputs": [],
   "source": [
    "# Following the same steps from step 3 onwards.\n",
    "\n",
    "images = driver.find_elements_by_xpath('//img[@class=\"s-image\"]')"
   ]
  },
  {
   "cell_type": "code",
   "execution_count": 189,
   "metadata": {},
   "outputs": [
    {
     "name": "stdout",
     "output_type": "stream",
     "text": [
      "60\n"
     ]
    }
   ],
   "source": [
    "print(len(images))"
   ]
  },
  {
   "cell_type": "code",
   "execution_count": 190,
   "metadata": {},
   "outputs": [
    {
     "data": {
      "text/plain": [
       "<selenium.webdriver.remote.webelement.WebElement (session=\"d7d697d3aaa958e8971b9a529eb17187\", element=\"eee0e297-a42f-4baa-b8a1-1655da3a01df\")>"
      ]
     },
     "execution_count": 190,
     "metadata": {},
     "output_type": "execute_result"
    }
   ],
   "source": [
    "images[0]"
   ]
  },
  {
   "cell_type": "code",
   "execution_count": 191,
   "metadata": {},
   "outputs": [
    {
     "name": "stdout",
     "output_type": "stream",
     "text": [
      "https://m.media-amazon.com/images/I/61oav6m1AqL._AC_UL320_.jpg\n",
      "https://m.media-amazon.com/images/I/81tinKuDj5L._AC_UL320_.jpg\n",
      "https://m.media-amazon.com/images/I/81OdoevJz9L._AC_UL320_.jpg\n",
      "https://m.media-amazon.com/images/I/71LUMOf2sKL._AC_UL320_.jpg\n",
      "https://m.media-amazon.com/images/I/81ubhsO1EYL._AC_UL320_.jpg\n",
      "https://m.media-amazon.com/images/I/81R1sbiIMDL._AC_UL320_.jpg\n",
      "https://m.media-amazon.com/images/I/81umzMV61tL._AC_UL320_.jpg\n",
      "https://m.media-amazon.com/images/I/71U39SGnWSL._AC_UL320_.jpg\n",
      "https://m.media-amazon.com/images/I/81RL-jkYcQL._AC_UL320_.jpg\n",
      "https://m.media-amazon.com/images/I/81+tbSK12dL._AC_UL320_.jpg\n",
      "https://m.media-amazon.com/images/I/81dZ97Jc2GL._AC_UL320_.jpg\n",
      "https://m.media-amazon.com/images/I/81cxQWY5-vL._AC_UL320_.jpg\n",
      "https://m.media-amazon.com/images/I/61TwfPRLhrL._AC_UL320_.jpg\n",
      "https://m.media-amazon.com/images/I/61Zp7OdBeDL._AC_UL320_.jpg\n",
      "https://m.media-amazon.com/images/I/81QnWUOIciL._AC_UL320_.jpg\n",
      "https://m.media-amazon.com/images/I/61bgI-mrUUL._AC_UL320_.jpg\n",
      "https://m.media-amazon.com/images/I/61aGmtzhdhL._AC_UL320_.jpg\n",
      "https://m.media-amazon.com/images/I/713Hsryga4L._AC_UL320_.jpg\n",
      "https://m.media-amazon.com/images/I/81emkePMduL._AC_UL320_.jpg\n",
      "https://m.media-amazon.com/images/I/81mQGMuQFwL._AC_UL320_.jpg\n",
      "https://m.media-amazon.com/images/I/81PPmFokY7L._AC_UL320_.jpg\n",
      "https://m.media-amazon.com/images/I/51jjaDgyn4L._AC_UL320_.jpg\n",
      "https://m.media-amazon.com/images/I/61dwQAjXjyL._AC_UL320_.jpg\n",
      "https://m.media-amazon.com/images/I/712pHoSq6WL._AC_UL320_.jpg\n",
      "https://m.media-amazon.com/images/I/616xchp1ECL._AC_UL320_.jpg\n",
      "https://m.media-amazon.com/images/I/819GKvxSP8L._AC_UL320_.jpg\n",
      "https://m.media-amazon.com/images/I/71jIvp1jFsL._AC_UL320_.jpg\n",
      "https://m.media-amazon.com/images/I/81jkC-L+mZL._AC_UL320_.jpg\n",
      "https://m.media-amazon.com/images/I/91sDGveQfQL._AC_UL320_.jpg\n",
      "https://m.media-amazon.com/images/I/61vbvuAOGXL._AC_UL320_.jpg\n",
      "https://m.media-amazon.com/images/I/81vM5fotdGL._AC_UL320_.jpg\n",
      "https://m.media-amazon.com/images/I/813oybXHRGL._AC_UL320_.jpg\n",
      "https://m.media-amazon.com/images/I/81mdEzlKj4L._AC_UL320_.jpg\n",
      "https://m.media-amazon.com/images/I/81BJeYJOwlL._AC_UL320_.jpg\n",
      "https://m.media-amazon.com/images/I/81dlpib-VbL._AC_UL320_.jpg\n",
      "https://m.media-amazon.com/images/I/61mfqUJMlRL._AC_UL320_.jpg\n",
      "https://m.media-amazon.com/images/I/81mQ7yh8EVL._AC_UL320_.jpg\n",
      "https://m.media-amazon.com/images/I/810c72ZORGL._AC_UL320_.jpg\n",
      "https://m.media-amazon.com/images/I/719Kj4n2mAL._AC_UL320_.jpg\n",
      "https://m.media-amazon.com/images/I/61hECisRkKL._AC_UL320_.jpg\n",
      "https://m.media-amazon.com/images/I/61dL-tqEQaL._AC_UL320_.jpg\n",
      "https://m.media-amazon.com/images/I/81-63OmQSwL._AC_UL320_.jpg\n",
      "https://m.media-amazon.com/images/I/81ZVm7gJ8PL._AC_UL320_.jpg\n",
      "https://m.media-amazon.com/images/I/91e10WouDlL._AC_UL320_.jpg\n",
      "https://m.media-amazon.com/images/I/81GFry-xxBL._AC_UL320_.jpg\n",
      "https://m.media-amazon.com/images/I/815BT-Fqd1L._AC_UL320_.jpg\n",
      "https://m.media-amazon.com/images/I/617L399rTqL._AC_UL320_.jpg\n",
      "https://m.media-amazon.com/images/I/81DmwS2J+gL._AC_UL320_.jpg\n",
      "https://m.media-amazon.com/images/I/81UWxL1wCfL._AC_UL320_.jpg\n",
      "https://m.media-amazon.com/images/I/81QcbuXUuXL._AC_UL320_.jpg\n",
      "https://m.media-amazon.com/images/I/81Nypn1qenL._AC_UL320_.jpg\n",
      "https://m.media-amazon.com/images/I/71YXhQ9ZxeL._AC_UL320_.jpg\n",
      "https://m.media-amazon.com/images/I/81-vyWsO2fL._AC_UL320_.jpg\n",
      "https://m.media-amazon.com/images/I/81wAqvZ4HWL._AC_UL320_.jpg\n",
      "https://m.media-amazon.com/images/I/81BSP46BpeL._AC_UL320_.jpg\n",
      "https://m.media-amazon.com/images/I/91mXH+SEo7L._AC_UL320_.jpg\n",
      "https://m.media-amazon.com/images/I/71m0W58-zQL._AC_UL320_.jpg\n",
      "https://m.media-amazon.com/images/I/81o7zC9qSHL._AC_UL320_.jpg\n",
      "https://m.media-amazon.com/images/I/719z+JI+mQL._AC_UL320_.jpg\n",
      "https://m.media-amazon.com/images/I/81350YoeV5L._AC_UL320_.jpg\n"
     ]
    }
   ],
   "source": [
    "urls=[]\n",
    "for image in images:\n",
    "    source=image.get_attribute('src')\n",
    "    urls.append(source)\n",
    "    print(source)"
   ]
  },
  {
   "cell_type": "code",
   "execution_count": 192,
   "metadata": {},
   "outputs": [
    {
     "name": "stdout",
     "output_type": "stream",
     "text": [
      "Downloading 1 of 60 images from page 5\n",
      "Downloading 2 of 60 images from page 5\n",
      "Downloading 3 of 60 images from page 5\n",
      "Downloading 4 of 60 images from page 5\n",
      "Downloading 5 of 60 images from page 5\n",
      "Downloading 6 of 60 images from page 5\n",
      "Downloading 7 of 60 images from page 5\n",
      "Downloading 8 of 60 images from page 5\n",
      "Downloading 9 of 60 images from page 5\n",
      "Downloading 10 of 60 images from page 5\n",
      "Downloading 11 of 60 images from page 5\n",
      "Downloading 12 of 60 images from page 5\n",
      "Downloading 13 of 60 images from page 5\n",
      "Downloading 14 of 60 images from page 5\n",
      "Downloading 15 of 60 images from page 5\n",
      "Downloading 16 of 60 images from page 5\n",
      "Downloading 17 of 60 images from page 5\n",
      "Downloading 18 of 60 images from page 5\n",
      "Downloading 19 of 60 images from page 5\n",
      "Downloading 20 of 60 images from page 5\n",
      "Downloading 21 of 60 images from page 5\n",
      "Downloading 22 of 60 images from page 5\n",
      "Downloading 23 of 60 images from page 5\n",
      "Downloading 24 of 60 images from page 5\n",
      "Downloading 25 of 60 images from page 5\n",
      "Downloading 26 of 60 images from page 5\n",
      "Downloading 27 of 60 images from page 5\n",
      "Downloading 28 of 60 images from page 5\n",
      "Downloading 29 of 60 images from page 5\n",
      "Downloading 30 of 60 images from page 5\n",
      "Downloading 31 of 60 images from page 5\n",
      "Downloading 32 of 60 images from page 5\n",
      "Downloading 33 of 60 images from page 5\n",
      "Downloading 34 of 60 images from page 5\n",
      "Downloading 35 of 60 images from page 5\n",
      "Downloading 36 of 60 images from page 5\n",
      "Downloading 37 of 60 images from page 5\n",
      "Downloading 38 of 60 images from page 5\n",
      "Downloading 39 of 60 images from page 5\n",
      "Downloading 40 of 60 images from page 5\n",
      "Downloading 41 of 60 images from page 5\n",
      "Downloading 42 of 60 images from page 5\n",
      "Downloading 43 of 60 images from page 5\n",
      "Downloading 44 of 60 images from page 5\n",
      "Downloading 45 of 60 images from page 5\n",
      "Downloading 46 of 60 images from page 5\n",
      "Downloading 47 of 60 images from page 5\n",
      "Downloading 48 of 60 images from page 5\n",
      "Downloading 49 of 60 images from page 5\n",
      "Downloading 50 of 60 images from page 5\n",
      "Downloading 51 of 60 images from page 5\n",
      "Downloading 52 of 60 images from page 5\n",
      "Downloading 53 of 60 images from page 5\n",
      "Downloading 54 of 60 images from page 5\n",
      "Downloading 55 of 60 images from page 5\n",
      "Downloading 56 of 60 images from page 5\n",
      "Downloading 57 of 60 images from page 5\n",
      "Downloading 58 of 60 images from page 5\n",
      "Downloading 59 of 60 images from page 5\n",
      "Downloading 60 of 60 images from page 5\n"
     ]
    }
   ],
   "source": [
    "page=5\n",
    "for index, link in enumerate(urls):\n",
    "    print('Downloading {0} of {1} images from page 5'.format(index+1,len(urls)))\n",
    "    response=requests.get(link)\n",
    "    with open('Jeans (men)/img_{0}{1}.jpeg'.format(index,page),'wb') as file:\n",
    "        file.write(response.content)"
   ]
  }
 ],
 "metadata": {
  "kernelspec": {
   "display_name": "Python 3",
   "language": "python",
   "name": "python3"
  },
  "language_info": {
   "codemirror_mode": {
    "name": "ipython",
    "version": 3
   },
   "file_extension": ".py",
   "mimetype": "text/x-python",
   "name": "python",
   "nbconvert_exporter": "python",
   "pygments_lexer": "ipython3",
   "version": "3.7.6"
  }
 },
 "nbformat": 4,
 "nbformat_minor": 4
}
